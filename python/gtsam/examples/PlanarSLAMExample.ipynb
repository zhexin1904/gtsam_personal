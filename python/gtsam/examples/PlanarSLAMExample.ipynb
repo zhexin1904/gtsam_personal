{
 "cells": [
  {
   "cell_type": "markdown",
   "id": "21db97de",
   "metadata": {},
   "source": [
    "# Simple Planar SLAM Example"
   ]
  },
  {
   "cell_type": "markdown",
   "id": "153c8385",
   "metadata": {
    "tags": [
     "remove-cell"
    ]
   },
   "source": [
    "GTSAM Copyright 2010-2018, Georgia Tech Research Corporation,\n",
    "Atlanta, Georgia 30332-0415\n",
    "All Rights Reserved\n",
    "Authors: Frank Dellaert, et al. (see THANKS for the full author list)\n",
    "\n",
    "See LICENSE for the license information\n",
    "\n",
    "Simple robotics example using odometry measurements and bearing-range (laser) measurements\n",
    "Author: Alex Cunningham (C++), Kevin Deng & Frank Dellaert (Python)"
   ]
  },
  {
   "cell_type": "markdown",
   "id": "3ced5f44",
   "metadata": {
    "tags": [
     "remove-input"
    ]
   },
   "source": [
    "<a href=\"https://colab.research.google.com/github/borglab/gtsam/blob/develop/python/examples/PlanarSLAMExample.ipynb\" target=\"_parent\"><img src=\"https://colab.research.google.com/assets/colab-badge.svg\" alt=\"Open In Colab\"/></a>"
   ]
  },
  {
   "cell_type": "markdown",
   "id": "d2980e5e",
   "metadata": {},
   "source": [
    "This notebook demonstrates a basic Simultaneous Localization and Mapping (SLAM) problem in 2D using GTSAM.\n",
    "\n",
    "**What is GTSAM?**\n",
    "GTSAM (Georgia Tech Smoothing and Mapping) is a library that implements factor graph-based optimization. It's widely used in robotics for problems like SLAM, Structure from Motion (SfM), and sensor fusion.\n",
    "\n",
    "**What is a Factor Graph?**\n",
    "A factor graph is a graphical model that represents the probabilistic relationships between unknown variables (like robot poses and landmark positions) and measurements (like odometry or sensor readings). Optimization in GTSAM involves finding the most likely configuration of variables given the measurements and their associated uncertainties (noise).\n",
    "\n",
    "**This Example:**\n",
    "We'll simulate a robot moving in a 2D plane. The robot has:\n",
    "1.  **Odometry:** Measurements of its own motion (how far it moved between steps).\n",
    "2.  **Bearing-Range Sensor:** A sensor (like a simple laser scanner) that measures the bearing (angle) and range (distance) to landmarks.\n",
    "\n",
    "We'll build a factor graph representing the robot's poses, landmark positions, odometry measurements, and bearing-range measurements. Then, we'll use GTSAM to optimize the graph and find the best estimate of the robot's trajectory and landmark locations."
   ]
  },
  {
   "cell_type": "markdown",
   "id": "9eb7fe9d",
   "metadata": {},
   "source": [
    "## 1. Setup and Imports\n",
    "\n",
    "First, we need to import the necessary libraries: `gtsam` itself and `numpy` for numerical operations."
   ]
  },
  {
   "cell_type": "code",
   "execution_count": 15,
   "id": "eea967e9",
   "metadata": {},
   "outputs": [],
   "source": [
    "# Install GTSAM from pip if running in Google Colab\n",
    "try:\n",
    "    import google.colab\n",
    "    %pip install --quiet gtsam-develop\n",
    "except ImportError:\n",
    "    pass # Not in Colab"
   ]
  },
  {
   "cell_type": "code",
   "execution_count": 16,
   "id": "2c932acb",
   "metadata": {},
   "outputs": [],
   "source": [
    "import matplotlib.pyplot as plt\n",
    "import numpy as np\n",
    "import graphviz\n",
    "\n",
    "import gtsam\n",
    "import gtsam.utils.plot as gp\n",
    "\n",
    "# We can use shorthand symbols for variable keys\n",
    "# X(i) represents the i-th pose variable\n",
    "# L(j) represents the j-th landmark variable\n",
    "from gtsam.symbol_shorthand import L, X"
   ]
  },
  {
   "cell_type": "markdown",
   "id": "181c929c",
   "metadata": {},
   "source": [
    "## 2. Define Noise Models\n",
    "\n",
    "Real-world measurements are always noisy. In GTSAM, we model this noise using Gaussian noise models. We need to define the uncertainty (standard deviation) for each type of measurement:\n",
    "\n",
    "*   **Prior Noise:** Uncertainty about the very first pose of the robot. We often assume we know the starting position reasonably well, but not perfectly.\n",
    "*   **Odometry Noise:** Uncertainty in the robot's movement measurements (e.g., wheel encoders). Assumed to be Gaussian noise on the change in x, y, and theta.\n",
    "*   **Measurement Noise:** Uncertainty in the bearing-range sensor readings. Assumed to be Gaussian noise on the bearing and range measurements."
   ]
  },
  {
   "cell_type": "code",
   "execution_count": 17,
   "id": "4a9b8d1b",
   "metadata": {},
   "outputs": [],
   "source": [
    "# Create noise models with specified standard deviations (sigmas).\n",
    "# gtsam.noiseModel.Diagonal.Sigmas takes a numpy array of standard deviations.\n",
    "\n",
    "# Prior noise on the first pose (x, y, theta) - sigmas = [0.3m, 0.3m, 0.1rad]\n",
    "PRIOR_NOISE = gtsam.noiseModel.Diagonal.Sigmas(np.array([0.3, 0.3, 0.1]))\n",
    "# Odometry noise (dx, dy, dtheta) - sigmas = [0.2m, 0.2m, 0.1rad]\n",
    "ODOMETRY_NOISE = gtsam.noiseModel.Diagonal.Sigmas(np.array([0.2, 0.2, 0.1]))\n",
    "# Measurement noise (bearing, range) - sigmas = [0.1rad, 0.2m]\n",
    "MEASUREMENT_NOISE = gtsam.noiseModel.Diagonal.Sigmas(np.array([0.1, 0.2]))"
   ]
  },
  {
   "cell_type": "markdown",
   "id": "6202026a",
   "metadata": {},
   "source": [
    "## 3. Build the Factor Graph\n",
    "\n",
    "Now, we'll create the factor graph step-by-step.\n",
    "\n",
    "First, create an empty nonlinear factor graph."
   ]
  },
  {
   "cell_type": "code",
   "execution_count": 18,
   "id": "37e5a43a",
   "metadata": {},
   "outputs": [],
   "source": [
    "# Create an empty nonlinear factor graph\n",
    "graph = gtsam.NonlinearFactorGraph()"
   ]
  },
  {
   "cell_type": "markdown",
   "id": "8a1b517b",
   "metadata": {},
   "source": [
    "### 3.1 Variable Keys\n",
    "\n",
    "We need unique keys to identify each unknown variable (robot poses and landmark positions) in the graph. \n",
    "We'll have 3 robot poses $(x_1, x_2, x_3)$ and 2 landmarks $(l_1, l_2)$. We will just use `X(1)`..`L(2)` in the code, using the `X(i)` and `L(j)` shorthand imported earlier. Note here we can use base 1 indexing but you can use any integer, and numbering does not have to be consecutive."
   ]
  },
  {
   "cell_type": "markdown",
   "id": "d9e1aaaa",
   "metadata": {},
   "source": [
    "### 3.2 Add a Prior Factor\n",
    "\n",
    "To \"anchor\" the graph, we add a prior factor on the first pose $x_1$. This represents our initial belief about where the robot started. We assume it started at the origin (0, 0, 0) with the uncertainty defined by `PRIOR_NOISE`.\n",
    "\n",
    "A `PriorFactorPose2` connects the single pose variable $x_1$ to a known pose (`gtsam.Pose2(0,0,0)`) with a specific noise model."
   ]
  },
  {
   "cell_type": "code",
   "execution_count": 19,
   "id": "0549b0a2",
   "metadata": {},
   "outputs": [],
   "source": [
    "# Add a prior on pose X(1) at the origin.\n",
    "# A prior factor consists of a mean (gtsam.Pose2) and a noise model.\n",
    "graph.add(gtsam.PriorFactorPose2(X(1), gtsam.Pose2(0.0, 0.0, 0.0), PRIOR_NOISE))"
   ]
  },
  {
   "cell_type": "markdown",
   "id": "cb8ffd2d",
   "metadata": {},
   "source": [
    "### 3.3 Add Odometry Factors\n",
    "\n",
    "Next, we add factors representing the robot's movement based on odometry measurements. We assume the robot moved approximately 2 units forward in the x-direction between each pose.\n",
    "\n",
    "A `BetweenFactorPose2` connects two consecutive poses (e.g., $x_1$ and $x_2$) and represents the measured relative motion between them (`gtsam.Pose2(2.0, 0.0, 0.0)`) with its associated noise (`ODOMETRY_NOISE`)."
   ]
  },
  {
   "cell_type": "code",
   "execution_count": 20,
   "id": "2389fae3",
   "metadata": {},
   "outputs": [],
   "source": [
    "# Add odometry factors between X(1),X(2) and X(2),X(3), respectively.\n",
    "# The measurement is the relative motion: Pose2(dx, dy, dtheta).\n",
    "\n",
    "# Between X(1) and X(2): Move forward 2m\n",
    "graph.add(gtsam.BetweenFactorPose2(X(1), X(2), gtsam.Pose2(2.0, 0.0, 0.0), ODOMETRY_NOISE))\n",
    "# Between X(2) and X(3): Move forward 2m\n",
    "graph.add(gtsam.BetweenFactorPose2(X(2), X(3), gtsam.Pose2(2.0, 0.0, 0.0), ODOMETRY_NOISE))"
   ]
  },
  {
   "cell_type": "markdown",
   "id": "17459992",
   "metadata": {},
   "source": [
    "### 3.4 Add Measurement Factors\n",
    "\n",
    "Now, add factors representing the bearing-range measurements from the robot's poses to the landmarks.\n",
    "\n",
    "A `BearingRangeFactor2D` connects a pose variable (e.g., $x_1$) and a landmark variable (e.g., $l_1$). It includes the measured bearing (`gtsam.Rot2`) and range (distance), along with the measurement noise (`MEASUREMENT_NOISE`).\n",
    "\n",
    "We have three measurements:\n",
    "*   From $x_1$ to $l_1$: Bearing 45 degrees, Range sqrt(8)\n",
    "*   From $x_2$ to $l_1$: Bearing 90 degrees, Range 2.0\n",
    "*   From $x_3$ to $l_2$: Bearing 90 degrees, Range 2.0"
   ]
  },
  {
   "cell_type": "code",
   "execution_count": 21,
   "id": "cc19f4ac",
   "metadata": {},
   "outputs": [],
   "source": [
    "# Add Range-Bearing measurements to two different landmarks L(1) and L(2).\n",
    "# Measurements are Bearing (gtsam.Rot2) and Range (float).\n",
    "\n",
    "# From X(1) to L(1)\n",
    "graph.add(gtsam.BearingRangeFactor2D(X(1), L(1), gtsam.Rot2.fromDegrees(45), np.sqrt(4.0+4.0), MEASUREMENT_NOISE))\n",
    "# From X(2) to L(1)\n",
    "graph.add(gtsam.BearingRangeFactor2D(X(2), L(1), gtsam.Rot2.fromDegrees(90), 2.0, MEASUREMENT_NOISE))\n",
    "# From X(3) to L(2)\n",
    "graph.add(gtsam.BearingRangeFactor2D(X(3), L(2), gtsam.Rot2.fromDegrees(90), 2.0, MEASUREMENT_NOISE))"
   ]
  },
  {
   "cell_type": "markdown",
   "id": "4820f7b1",
   "metadata": {},
   "source": [
    "### 3.5 Inspect the Graph\n",
    "\n",
    "We can print the factor graph to see a summary of the variables and factors we've added."
   ]
  },
  {
   "cell_type": "code",
   "execution_count": 22,
   "id": "83b8002e",
   "metadata": {},
   "outputs": [
    {
     "name": "stdout",
     "output_type": "stream",
     "text": [
      "Factor Graph:\n",
      "NonlinearFactorGraph: size: 6\n",
      "\n",
      "Factor 0: PriorFactor on x1\n",
      "  prior mean:  (0, 0, 0)\n",
      "  noise model: diagonal sigmas [0.3; 0.3; 0.1];\n",
      "\n",
      "Factor 1: BetweenFactor(x1,x2)\n",
      "  measured:  (2, 0, 0)\n",
      "  noise model: diagonal sigmas [0.2; 0.2; 0.1];\n",
      "\n",
      "Factor 2: BetweenFactor(x2,x3)\n",
      "  measured:  (2, 0, 0)\n",
      "  noise model: diagonal sigmas [0.2; 0.2; 0.1];\n",
      "\n",
      "Factor 3: BearingRangeFactor\n",
      "Factor 3:   keys = { x1 l1 }\n",
      "  noise model: diagonal sigmas [0.1; 0.2];\n",
      "ExpressionFactor with measurement: bearing : 0.785398163\n",
      "range  2.82842712\n",
      "\n",
      "Factor 4: BearingRangeFactor\n",
      "Factor 4:   keys = { x2 l1 }\n",
      "  noise model: diagonal sigmas [0.1; 0.2];\n",
      "ExpressionFactor with measurement: bearing : 1.57079633\n",
      "range  2\n",
      "\n",
      "Factor 5: BearingRangeFactor\n",
      "Factor 5:   keys = { x3 l2 }\n",
      "  noise model: diagonal sigmas [0.1; 0.2];\n",
      "ExpressionFactor with measurement: bearing : 1.57079633\n",
      "range  2\n",
      "\n",
      "\n"
     ]
    }
   ],
   "source": [
    "# Print the graph. This shows the factors and the variables they connect.\n",
    "print(\"Factor Graph:\\n{}\".format(graph))"
   ]
  },
  {
   "cell_type": "markdown",
   "id": "038f5089",
   "metadata": {},
   "source": [
    "## 4. Create Initial Estimate\n",
    "\n",
    "Factor graph optimization is an iterative process that needs an initial guess (initial estimate) for the values of all unknown variables. The closer the initial estimate is to the true solution, the faster and more reliably the optimizer will converge.\n",
    "\n",
    "Here, we create a `gtsam.Values` object and deliberately insert slightly *inaccurate* initial estimates for the poses and landmark positions. This demonstrates that the optimizer can correct for errors in the initial guess."
   ]
  },
  {
   "cell_type": "code",
   "execution_count": 23,
   "id": "98c87675",
   "metadata": {},
   "outputs": [
    {
     "name": "stdout",
     "output_type": "stream",
     "text": [
      "Initial Estimate:\n",
      "Values with 5 values:\n",
      "Value l1: (Eigen::Matrix<double, -1, 1, 0, -1, 1>)\n",
      "[\n",
      "\t1.8;\n",
      "\t2.1\n",
      "]\n",
      "\n",
      "Value l2: (Eigen::Matrix<double, -1, 1, 0, -1, 1>)\n",
      "[\n",
      "\t4.1;\n",
      "\t1.8\n",
      "]\n",
      "\n",
      "Value x1: (gtsam::Pose2)\n",
      "(-0.25, 0.2, 0.15)\n",
      "\n",
      "Value x2: (gtsam::Pose2)\n",
      "(2.3, 0.1, -0.2)\n",
      "\n",
      "Value x3: (gtsam::Pose2)\n",
      "(4.1, 0.1, 0.1)\n",
      "\n",
      "\n"
     ]
    }
   ],
   "source": [
    "# Create (deliberately inaccurate) initial estimate.\n",
    "# gtsam.Values is a container mapping variable keys to their estimated values.\n",
    "initial_estimate = gtsam.Values()\n",
    "\n",
    "# Insert initial guesses for poses (Pose2: x, y, theta)\n",
    "initial_estimate.insert(X(1), gtsam.Pose2(-0.25, 0.20, 0.15))\n",
    "initial_estimate.insert(X(2), gtsam.Pose2(2.30, 0.10, -0.20))\n",
    "initial_estimate.insert(X(3), gtsam.Pose2(4.10, 0.10, 0.10))\n",
    "\n",
    "# Insert initial guesses for landmarks (Point2: x, y)\n",
    "initial_estimate.insert(L(1), gtsam.Point2(1.80, 2.10))\n",
    "initial_estimate.insert(L(2), gtsam.Point2(4.10, 1.80))\n",
    "\n",
    "# Print the initial estimate\n",
    "print(\"Initial Estimate:\\n{}\".format(initial_estimate))"
   ]
  },
  {
   "cell_type": "markdown",
   "id": "2d796916",
   "metadata": {},
   "source": [
    "Now that we have an initial estimate we can also visualize the graph:"
   ]
  },
  {
   "cell_type": "code",
   "execution_count": 24,
   "id": "d896ecee",
   "metadata": {},
   "outputs": [
    {
     "data": {
      "image/svg+xml": [
       "<?xml version=\"1.0\" encoding=\"UTF-8\" standalone=\"no\"?>\n",
       "<!DOCTYPE svg PUBLIC \"-//W3C//DTD SVG 1.1//EN\"\n",
       " \"http://www.w3.org/Graphics/SVG/1.1/DTD/svg11.dtd\">\n",
       "<!-- Generated by graphviz version 12.0.0 (0)\n",
       " -->\n",
       "<!-- Pages: 1 -->\n",
       "<svg width=\"350pt\" height=\"84pt\"\n",
       " viewBox=\"0.00 0.00 350.00 83.60\" xmlns=\"http://www.w3.org/2000/svg\" xmlns:xlink=\"http://www.w3.org/1999/xlink\">\n",
       "<g id=\"graph0\" class=\"graph\" transform=\"scale(1 1) rotate(0) translate(4 79.6)\">\n",
       "<polygon fill=\"white\" stroke=\"none\" points=\"-4,4 -4,-79.6 346,-79.6 346,4 -4,4\"/>\n",
       "<!-- var7782220156096217089 -->\n",
       "<g id=\"node1\" class=\"node\">\n",
       "<title>var7782220156096217089</title>\n",
       "<ellipse fill=\"none\" stroke=\"black\" cx=\"99\" cy=\"-57.6\" rx=\"27\" ry=\"18\"/>\n",
       "<text text-anchor=\"middle\" x=\"99\" y=\"-52.55\" font-family=\"Times,serif\" font-size=\"14.00\">l1</text>\n",
       "</g>\n",
       "<!-- factor3 -->\n",
       "<g id=\"node9\" class=\"node\">\n",
       "<title>factor3</title>\n",
       "<ellipse fill=\"black\" stroke=\"black\" cx=\"75\" cy=\"-1.8\" rx=\"1.8\" ry=\"1.8\"/>\n",
       "</g>\n",
       "<!-- var7782220156096217089&#45;&#45;factor3 -->\n",
       "<g id=\"edge7\" class=\"edge\">\n",
       "<title>var7782220156096217089&#45;&#45;factor3</title>\n",
       "<path fill=\"none\" stroke=\"black\" d=\"M91.54,-39.87C85.48,-26.3 77.62,-8.68 75.53,-3.99\"/>\n",
       "</g>\n",
       "<!-- factor4 -->\n",
       "<g id=\"node10\" class=\"node\">\n",
       "<title>factor4</title>\n",
       "<ellipse fill=\"black\" stroke=\"black\" cx=\"123\" cy=\"-1.8\" rx=\"1.8\" ry=\"1.8\"/>\n",
       "</g>\n",
       "<!-- var7782220156096217089&#45;&#45;factor4 -->\n",
       "<g id=\"edge9\" class=\"edge\">\n",
       "<title>var7782220156096217089&#45;&#45;factor4</title>\n",
       "<path fill=\"none\" stroke=\"black\" d=\"M106.46,-39.87C112.52,-26.3 120.38,-8.68 122.47,-3.99\"/>\n",
       "</g>\n",
       "<!-- var7782220156096217090 -->\n",
       "<g id=\"node2\" class=\"node\">\n",
       "<title>var7782220156096217090</title>\n",
       "<ellipse fill=\"none\" stroke=\"black\" cx=\"315\" cy=\"-57.6\" rx=\"27\" ry=\"18\"/>\n",
       "<text text-anchor=\"middle\" x=\"315\" y=\"-52.55\" font-family=\"Times,serif\" font-size=\"14.00\">l2</text>\n",
       "</g>\n",
       "<!-- factor5 -->\n",
       "<g id=\"node11\" class=\"node\">\n",
       "<title>factor5</title>\n",
       "<ellipse fill=\"black\" stroke=\"black\" cx=\"279\" cy=\"-1.8\" rx=\"1.8\" ry=\"1.8\"/>\n",
       "</g>\n",
       "<!-- var7782220156096217090&#45;&#45;factor5 -->\n",
       "<g id=\"edge11\" class=\"edge\">\n",
       "<title>var7782220156096217090&#45;&#45;factor5</title>\n",
       "<path fill=\"none\" stroke=\"black\" d=\"M304.39,-40.75C295.1,-26.86 282.63,-8.22 279.66,-3.78\"/>\n",
       "</g>\n",
       "<!-- var8646911284551352321 -->\n",
       "<g id=\"node3\" class=\"node\">\n",
       "<title>var8646911284551352321</title>\n",
       "<ellipse fill=\"none\" stroke=\"black\" cx=\"27\" cy=\"-57.6\" rx=\"27\" ry=\"18\"/>\n",
       "<text text-anchor=\"middle\" x=\"27\" y=\"-52.55\" font-family=\"Times,serif\" font-size=\"14.00\">x1</text>\n",
       "</g>\n",
       "<!-- factor0 -->\n",
       "<g id=\"node6\" class=\"node\">\n",
       "<title>factor0</title>\n",
       "<ellipse fill=\"black\" stroke=\"black\" cx=\"27\" cy=\"-1.8\" rx=\"1.8\" ry=\"1.8\"/>\n",
       "</g>\n",
       "<!-- var8646911284551352321&#45;&#45;factor0 -->\n",
       "<g id=\"edge1\" class=\"edge\">\n",
       "<title>var8646911284551352321&#45;&#45;factor0</title>\n",
       "<path fill=\"none\" stroke=\"black\" d=\"M27,-39.28C27,-25.77 27,-8.54 27,-3.96\"/>\n",
       "</g>\n",
       "<!-- factor1 -->\n",
       "<g id=\"node7\" class=\"node\">\n",
       "<title>factor1</title>\n",
       "<ellipse fill=\"black\" stroke=\"black\" cx=\"100\" cy=\"-1.8\" rx=\"1.8\" ry=\"1.8\"/>\n",
       "</g>\n",
       "<!-- var8646911284551352321&#45;&#45;factor1 -->\n",
       "<g id=\"edge2\" class=\"edge\">\n",
       "<title>var8646911284551352321&#45;&#45;factor1</title>\n",
       "<path fill=\"none\" stroke=\"black\" d=\"M44.67,-43.58C64.25,-29.15 93.78,-7.38 99.15,-3.43\"/>\n",
       "</g>\n",
       "<!-- var8646911284551352321&#45;&#45;factor3 -->\n",
       "<g id=\"edge6\" class=\"edge\">\n",
       "<title>var8646911284551352321&#45;&#45;factor3</title>\n",
       "<path fill=\"none\" stroke=\"black\" d=\"M40.37,-41.61C52.8,-27.68 69.99,-8.41 74.09,-3.81\"/>\n",
       "</g>\n",
       "<!-- var8646911284551352322 -->\n",
       "<g id=\"node4\" class=\"node\">\n",
       "<title>var8646911284551352322</title>\n",
       "<ellipse fill=\"none\" stroke=\"black\" cx=\"171\" cy=\"-57.6\" rx=\"27\" ry=\"18\"/>\n",
       "<text text-anchor=\"middle\" x=\"171\" y=\"-52.55\" font-family=\"Times,serif\" font-size=\"14.00\">x2</text>\n",
       "</g>\n",
       "<!-- var8646911284551352322&#45;&#45;factor1 -->\n",
       "<g id=\"edge3\" class=\"edge\">\n",
       "<title>var8646911284551352322&#45;&#45;factor1</title>\n",
       "<path fill=\"none\" stroke=\"black\" d=\"M153.81,-43.58C134.77,-29.15 106.05,-7.38 100.83,-3.43\"/>\n",
       "</g>\n",
       "<!-- factor2 -->\n",
       "<g id=\"node8\" class=\"node\">\n",
       "<title>factor2</title>\n",
       "<ellipse fill=\"black\" stroke=\"black\" cx=\"207\" cy=\"-1.8\" rx=\"1.8\" ry=\"1.8\"/>\n",
       "</g>\n",
       "<!-- var8646911284551352322&#45;&#45;factor2 -->\n",
       "<g id=\"edge4\" class=\"edge\">\n",
       "<title>var8646911284551352322&#45;&#45;factor2</title>\n",
       "<path fill=\"none\" stroke=\"black\" d=\"M181.61,-40.75C190.9,-26.86 203.37,-8.22 206.34,-3.78\"/>\n",
       "</g>\n",
       "<!-- var8646911284551352322&#45;&#45;factor4 -->\n",
       "<g id=\"edge8\" class=\"edge\">\n",
       "<title>var8646911284551352322&#45;&#45;factor4</title>\n",
       "<path fill=\"none\" stroke=\"black\" d=\"M157.63,-41.61C145.2,-27.68 128.01,-8.41 123.91,-3.81\"/>\n",
       "</g>\n",
       "<!-- var8646911284551352323 -->\n",
       "<g id=\"node5\" class=\"node\">\n",
       "<title>var8646911284551352323</title>\n",
       "<ellipse fill=\"none\" stroke=\"black\" cx=\"243\" cy=\"-57.6\" rx=\"27\" ry=\"18\"/>\n",
       "<text text-anchor=\"middle\" x=\"243\" y=\"-52.55\" font-family=\"Times,serif\" font-size=\"14.00\">x3</text>\n",
       "</g>\n",
       "<!-- var8646911284551352323&#45;&#45;factor2 -->\n",
       "<g id=\"edge5\" class=\"edge\">\n",
       "<title>var8646911284551352323&#45;&#45;factor2</title>\n",
       "<path fill=\"none\" stroke=\"black\" d=\"M232.39,-40.75C223.1,-26.86 210.63,-8.22 207.66,-3.78\"/>\n",
       "</g>\n",
       "<!-- var8646911284551352323&#45;&#45;factor5 -->\n",
       "<g id=\"edge10\" class=\"edge\">\n",
       "<title>var8646911284551352323&#45;&#45;factor5</title>\n",
       "<path fill=\"none\" stroke=\"black\" d=\"M253.61,-40.75C262.9,-26.86 275.37,-8.22 278.34,-3.78\"/>\n",
       "</g>\n",
       "</g>\n",
       "</svg>\n"
      ],
      "text/plain": [
       "<graphviz.sources.Source at 0x10a2faf30>"
      ]
     },
     "metadata": {},
     "output_type": "display_data"
    }
   ],
   "source": [
    "display(graphviz.Source(graph.dot(initial_estimate)))"
   ]
  },
  {
   "cell_type": "markdown",
   "id": "2608bf96",
   "metadata": {},
   "source": [
    "## 5. Optimize the Factor Graph\n",
    "\n",
    "Now, we use an optimizer to find the variable configuration that best fits all the factors (measurements) in the graph, starting from the initial estimate.\n",
    "\n",
    "We'll use the Levenberg-Marquardt (LM) algorithm, a standard non-linear least-squares optimizer.\n",
    "\n",
    "1.  Create LM parameters (`gtsam.LevenbergMarquardtParams`). We'll use the defaults.\n",
    "2.  Create the optimizer instance, providing the graph, initial estimate, and parameters.\n",
    "3.  Run the optimization by calling `optimizer.optimize()`."
   ]
  },
  {
   "cell_type": "code",
   "execution_count": 25,
   "id": "2ee6b17a",
   "metadata": {},
   "outputs": [
    {
     "name": "stdout",
     "output_type": "stream",
     "text": [
      "\n",
      "Final Result:\n",
      "Values with 5 values:\n",
      "Value l1: (Eigen::Matrix<double, -1, 1, 0, -1, 1>)\n",
      "[\n",
      "\t2;\n",
      "\t2\n",
      "]\n",
      "\n",
      "Value l2: (Eigen::Matrix<double, -1, 1, 0, -1, 1>)\n",
      "[\n",
      "\t4;\n",
      "\t2\n",
      "]\n",
      "\n",
      "Value x1: (gtsam::Pose2)\n",
      "(-5.72151617e-16, -2.6221043e-16, -8.93525825e-17)\n",
      "\n",
      "Value x2: (gtsam::Pose2)\n",
      "(2, -5.76036948e-15, -6.89367166e-16)\n",
      "\n",
      "Value x3: (gtsam::Pose2)\n",
      "(4, -1.0618198e-14, -6.48560093e-16)\n",
      "\n",
      "\n"
     ]
    }
   ],
   "source": [
    "# Optimize using Levenberg-Marquardt optimization.\n",
    "# The optimizer accepts optional parameters, but we'll use the defaults here.\n",
    "params = gtsam.LevenbergMarquardtParams()\n",
    "optimizer = gtsam.LevenbergMarquardtOptimizer(graph, initial_estimate, params)\n",
    "\n",
    "# Perform the optimization\n",
    "result = optimizer.optimize()\n",
    "\n",
    "# Print the final optimized result\n",
    "# This gtsam.Values object contains the most likely estimates for all variables.\n",
    "print(\"\\nFinal Result:\\n{}\".format(result))"
   ]
  },
  {
   "cell_type": "markdown",
   "id": "1bda91e1",
   "metadata": {},
   "source": [
    "The code below visualizes the optimized poses and landmarks in 2D. It uses GTSAM's plotting utilities to plot the robot's trajectory (poses) and the estimated positions of the landmarks. The poses are represented as coordinate frames indicating the robot's orientation, while the landmarks are plotted as blue points. The aspect ratio is set to ensure equal scaling for both axes."
   ]
  },
  {
   "cell_type": "code",
   "execution_count": 26,
   "id": "d827195e",
   "metadata": {},
   "outputs": [
    {
     "data": {
      "image/png": "[encoded data removed]",
      "text/plain": [
       "<Figure size 640x480 with 1 Axes>"
      ]
     },
     "metadata": {},
     "output_type": "display_data"
    }
   ],
   "source": [
    "fig = plt.figure(1)\n",
    "axes = fig.add_subplot()\n",
    "axes = fig.axes[0]\n",
    "\n",
    "# Plot 2D poses\n",
    "poses : gtsam.Values = gtsam.utilities.allPose2s(result)\n",
    "for key in poses.keys():\n",
    "    pose = poses.atPose2(key)\n",
    "    gp.plot_pose2_on_axes(axes, pose, axis_length=0.3)\n",
    "\n",
    "# Plot 2D landmarks\n",
    "landmarks : np.ndarray = gtsam.utilities.extractPoint2(result) # 2xn array\n",
    "for landmark in landmarks:\n",
    "    gp.plot_point2_on_axes(axes, landmark, linespec=\"b\")\n",
    "\n",
    "axes.set_aspect(\"equal\", adjustable=\"datalim\")"
   ]
  },
  {
   "cell_type": "markdown",
   "id": "27bc8e38",
   "metadata": {},
   "source": [
    "## 6. Calculate Marginal Covariances\n",
    "\n",
    "Besides finding the optimal values (the mean), GTSAM can also compute the uncertainty (covariance) associated with each variable estimate after optimization. This tells us how confident we are about the estimated poses and landmark locations.\n",
    "\n",
    "We use the `gtsam.Marginals` class to calculate the marginal covariance matrices for each variable.\n",
    "Each pose covariance matrix is a 3x3 matrix because a pose in 2D (`Pose2`) has three components: `(x, y, theta)` Each landmark covariance matrix is a 2x2 matrix because a landmark in 2D is represented by its `(x, y)` position.\n"
   ]
  },
  {
   "cell_type": "code",
   "execution_count": 27,
   "id": "90ef96ff",
   "metadata": {},
   "outputs": [
    {
     "name": "stdout",
     "output_type": "stream",
     "text": [
      "X1 covariance:\n",
      "[[ 9.00000000e-02  4.08945493e-33 -3.19744231e-18]\n",
      " [ 4.08945493e-33  9.00000000e-02 -1.27897692e-17]\n",
      " [-3.19744231e-18 -1.27897692e-17  1.00000000e-02]]\n",
      "\n",
      "X2 covariance:\n",
      "[[ 0.12096774 -0.00129032  0.00451613]\n",
      " [-0.00129032  0.1583871   0.02064516]\n",
      " [ 0.00451613  0.02064516  0.01774194]]\n",
      "\n",
      "X3 covariance:\n",
      "[[0.16096774 0.00774194 0.00451613]\n",
      " [0.00774194 0.35193548 0.05612903]\n",
      " [0.00451613 0.05612903 0.02774194]]\n",
      "\n",
      "L1 covariance:\n",
      "[[ 0.16870968 -0.04774194]\n",
      " [-0.04774194  0.16354839]]\n",
      "\n",
      "L2 covariance:\n",
      "[[ 0.29387097 -0.10451613]\n",
      " [-0.10451613  0.39193548]]\n",
      "\n"
     ]
    }
   ],
   "source": [
    "# Calculate and print marginal covariances for all variables.\n",
    "# This provides information about the uncertainty of the estimates.\n",
    "marginals = gtsam.Marginals(graph, result)\n",
    "\n",
    "# Print the covariance matrix for each variable\n",
    "print(\"X1 covariance:\\n{}\\n\".format(marginals.marginalCovariance(X(1))))\n",
    "print(\"X2 covariance:\\n{}\\n\".format(marginals.marginalCovariance(X(2))))\n",
    "print(\"X3 covariance:\\n{}\\n\".format(marginals.marginalCovariance(X(3))))\n",
    "print(\"L1 covariance:\\n{}\\n\".format(marginals.marginalCovariance(L(1))))\n",
    "print(\"L2 covariance:\\n{}\\n\".format(marginals.marginalCovariance(L(2))))"
   ]
  },
  {
   "cell_type": "markdown",
   "id": "62fd4f35",
   "metadata": {},
   "source": [
    "The code below once again visualizes the optimized poses and landmarks, now with their associated uncertainties (covariances).\n",
    "The covariance ellipses plotted on the graph visually represent the uncertainty in the estimates. Larger ellipses indicate higher uncertainty, while smaller ellipses indicate more confident estimates. \n",
    "\n",
    "The prior is on $x_1$, at the origin, and hence that is the most certain pose, after which uncertainty increases. Note that for poses we only show the uncertainty on translation, although each pose also has an uncertain orientation. The covariance ellipses on the landmarks actually reflect that orientation uncertainty, being oriented the way they are."
   ]
  },
  {
   "cell_type": "code",
   "execution_count": 28,
   "id": "d1f03fee",
   "metadata": {},
   "outputs": [
    {
     "data": {
      "image/png": "[encoded data removed]",
      "text/plain": [
       "<Figure size 640x480 with 1 Axes>"
      ]
     },
     "metadata": {},
     "output_type": "display_data"
    }
   ],
   "source": [
    "fig = plt.figure(2)\n",
    "axes = fig.add_subplot()\n",
    "axes = fig.axes[0]\n",
    "\n",
    "# Plot 2D poses\n",
    "poses = gtsam.utilities.allPose2s(result)\n",
    "for key in poses.keys():\n",
    "    pose = poses.atPose2(key)\n",
    "    covariance = marginals.marginalCovariance(key)\n",
    "\n",
    "    gp.plot_pose2_on_axes(axes, pose, covariance=covariance, axis_length=0.3)\n",
    "\n",
    "# Plot 2D landmarks\n",
    "landmarks: np.ndarray = gtsam.utilities.extractPoint2(result)  # 2xn array\n",
    "for j, landmark in enumerate(landmarks):\n",
    "    gp.plot_point2_on_axes(axes, landmark, linespec=\"b\")\n",
    "    covariance = marginals.marginalCovariance(L(j+1))\n",
    "    gp.plot_covariance_ellipse_2d(axes, landmark, covariance=covariance)\n",
    "\n",
    "axes.set_aspect(\"equal\", adjustable=\"datalim\")"
   ]
  },
  {
   "cell_type": "markdown",
   "id": "74673b3d",
   "metadata": {},
   "source": [
    "## Summary\n",
    "\n",
    "We have successfully:\n",
    "1.  Defined the structure of a 2D SLAM problem using factors (prior, odometry, measurements) and variables (poses, landmarks).\n",
    "2.  Represented this problem as a `gtsam.NonlinearFactorGraph`.\n",
    "3.  Provided noisy measurements and an inaccurate initial estimate.\n",
    "4.  Used `gtsam.LevenbergMarquardtOptimizer` to find the most likely configuration of poses and landmarks.\n",
    "5.  Calculated the uncertainty (covariance) of the final estimates.\n",
    "\n",
    "This demonstrates the basic workflow of using GTSAM for solving SLAM and other robotics estimation problems."
   ]
  }
 ],
 "metadata": {
  "kernelspec": {
   "display_name": "py312",
   "language": "python",
   "name": "python3"
  },
  "language_info": {
   "codemirror_mode": {
    "name": "ipython",
    "version": 3
   },
   "file_extension": ".py",
   "mimetype": "text/x-python",
   "name": "python",
   "nbconvert_exporter": "python",
   "pygments_lexer": "ipython3",
   "version": "3.12.6"
  }
 },
 "nbformat": 4,
 "nbformat_minor": 5
}
