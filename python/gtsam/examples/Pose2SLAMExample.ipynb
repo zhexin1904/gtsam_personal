{
 "cells": [
  {
   "cell_type": "markdown",
   "id": "8be9131e",
   "metadata": {},
   "source": [
    "# Pose2 SLAM Example"
   ]
  },
  {
   "cell_type": "markdown",
   "id": "copyright-cell",
   "metadata": {
    "tags": [
     "remove-cell"
    ]
   },
   "source": [
    "GTSAM Copyright 2010-2018, Georgia Tech Research Corporation,\n",
    "Atlanta, Georgia 30332-0415\n",
    "All Rights Reserved\n",
    "Authors: Frank Dellaert, et al. (see THANKS for the full author list)\n",
    "\n",
    "See LICENSE for the license information\n",
    "\n",
    "Simple Pose-SLAM example using only odometry measurements\n",
    "Author: Alex Cunningham (C++), Kevin Deng & Frank Dellaert (Python)"
   ]
  },
  {
   "cell_type": "markdown",
   "id": "colab-button-cell",
   "metadata": {
    "tags": [
     "remove-input"
    ]
   },
   "source": [
    "<a href=\"https://colab.research.google.com/github/borglab/gtsam/blob/develop/python/gtsam/examples/Pose2SLAMExample.ipynb\" target=\"_parent\"><img src=\"https://colab.research.google.com/assets/colab-badge.svg\" alt=\"Open In Colab\"/></a>"
   ]
  },
  {
   "cell_type": "markdown",
   "id": "intro-markdown",
   "metadata": {},
   "source": [
    "This notebook demonstrates a simple 2D Simultaneous Localization and Mapping (SLAM) problem involving only robot poses and odometry measurements. A key aspect of this example is the inclusion of a **loop closure** constraint.\n",
    "\n",
    "**Problem Setup:**\n",
    "Imagine a robot moving in a 2D plane. It receives measurements of its own motion (odometry) between consecutive time steps. Odometry is notoriously prone to drift – small errors accumulate over time, causing the robot's estimated position to diverge from its true position.\n",
    "\n",
    "**Loop Closure:**\n",
    "A loop closure occurs when the robot recognizes a previously visited location. This provides a powerful constraint that links a later pose back to an earlier pose, significantly reducing accumulated drift. In this example, we simulate a loop closure by adding a factor that directly connects the last pose ($x_5$) back to an earlier pose ($x_2$).\n",
    "\n",
    "**Factor Graph:**\n",
    "We will build a factor graph representing:\n",
    "1.  **Variables:** The unknown robot poses ($x_1, x_2, x_3, x_4, x_5$) at different time steps.\n",
    "2.  **Factors:**\n",
    "    *   A **Prior Factor** on the first pose ($x_1$), anchoring the map.\n",
    "    *   **Odometry Factors** (Between Factors) connecting consecutive poses ($x_1 \to x_2$, $x_2 \to x_3$, etc.), representing the noisy relative motion measurements.\n",
    "    *   A **Loop Closure Factor** (also a Between Factor) connecting the last pose ($x_5$) to an earlier pose ($x_2$), representing the constraint that the robot has returned to a known location.\n",
    "\n",
    "We will then use GTSAM to optimize this factor graph and find the most likely sequence of robot poses given the measurements and the loop closure."
   ]
  },
  {
   "cell_type": "markdown",
   "id": "setup-imports-markdown",
   "metadata": {},
   "source": [
    "## 1. Setup and Imports\n",
    "\n",
    "First, we install GTSAM if needed (e.g., in Google Colab) and import the necessary libraries: `gtsam`, `math` for PI, `matplotlib` for plotting, and `gtsam.utils.plot` for GTSAM-specific plotting functions."
   ]
  },
  {
   "cell_type": "code",
   "execution_count": null,
   "id": "install-code",
   "metadata": {},
   "outputs": [],
   "source": [
    "# Install GTSAM from pip if running in Google Colab\n",
    "try:\n",
    "    import google.colab\n",
    "    %pip install --quiet gtsam-develop\n",
    "except ImportError:\n",
    "    pass # Not in Colab"
   ]
  },
  {
   "cell_type": "code",
   "execution_count": 15,
   "id": "imports-code",
   "metadata": {},
   "outputs": [],
   "source": [
    "import math\n",
    "import graphviz\n",
    "import numpy as np\n",
    "\n",
    "import gtsam\n",
    "import gtsam.utils.plot as gtsam_plot\n",
    "import matplotlib.pyplot as plt"
   ]
  },
  {
   "cell_type": "markdown",
   "id": "noise-models-markdown",
   "metadata": {},
   "source": [
    "## 2. Define Noise Models\n",
    "\n",
    "We define Gaussian noise models for our factors:\n",
    "\n",
    "*   **Prior Noise:** Uncertainty on the initial pose ($x_1$). We assume the robot starts at the origin (0, 0, 0), but with some uncertainty.\n",
    "*   **Odometry Noise:** Uncertainty on the relative motion measurements between poses. This applies to both the sequential odometry factors and the loop closure factor."
   ]
  },
  {
   "cell_type": "code",
   "execution_count": 3,
   "id": "noise-models-code",
   "metadata": {},
   "outputs": [],
   "source": [
    "# Create noise models with specified standard deviations (sigmas).\n",
    "# For Pose2, the noise is on (x, y, theta).\n",
    "# Note: gtsam.Point3 is used here to represent the 3 sigmas (dx, dy, dtheta)\n",
    "\n",
    "# Prior noise on the first pose (x, y, theta) - sigmas = [0.3m, 0.3m, 0.1rad]\n",
    "PRIOR_NOISE = gtsam.noiseModel.Diagonal.Sigmas(np.array([0.3, 0.3, 0.1]))\n",
    "# Odometry noise (dx, dy, dtheta) - sigmas = [0.2m, 0.2m, 0.1rad]\n",
    "ODOMETRY_NOISE = gtsam.noiseModel.Diagonal.Sigmas(np.array([0.2, 0.2, 0.1]))"
   ]
  },
  {
   "cell_type": "markdown",
   "id": "build-graph-markdown",
   "metadata": {},
   "source": [
    "## 3. Build the Factor Graph\n",
    "\n",
    "Now, we create the factor graph. We'll use simple integer keys (1, 2, 3, 4, 5) to represent the poses $x_1$ through $x_5$."
   ]
  },
  {
   "cell_type": "code",
   "execution_count": 4,
   "id": "create-graph-code",
   "metadata": {},
   "outputs": [],
   "source": [
    "# 1. Create a factor graph container\n",
    "graph = gtsam.NonlinearFactorGraph()"
   ]
  },
  {
   "cell_type": "markdown",
   "id": "add-prior-markdown",
   "metadata": {},
   "source": [
    "### 3.1 Add Prior Factor\n",
    "\n",
    "Add a `PriorFactorPose2` on the first pose (key `1`), setting it to the origin `gtsam.Pose2(0, 0, 0)` with the defined `PRIOR_NOISE`."
   ]
  },
  {
   "cell_type": "code",
   "execution_count": 5,
   "id": "add-prior-code",
   "metadata": {},
   "outputs": [],
   "source": [
    "# 2a. Add a prior on the first pose (key 1)\n",
    "graph.add(gtsam.PriorFactorPose2(1, gtsam.Pose2(0, 0, 0), PRIOR_NOISE))"
   ]
  },
  {
   "cell_type": "markdown",
   "id": "add-odometry-markdown",
   "metadata": {},
   "source": [
    "### 3.2 Add Odometry Factors\n",
    "\n",
    "Add `BetweenFactorPose2` factors for the sequential movements:\n",
    "*   $x_1 \to x_2$: Move 2m forward.\n",
    "*   $x_2 \to x_3$: Move 2m forward, turn 90 degrees left ($\\pi/2$).\n",
    "*   $x_3 \to x_4$: Move 2m forward, turn 90 degrees left ($\\pi/2$).\n",
    "*   $x_4 \to x_5$: Move 2m forward, turn 90 degrees left ($\\pi/2$).\n",
    "\n",
    "Each factor uses the `ODOMETRY_NOISE` model."
   ]
  },
  {
   "cell_type": "code",
   "execution_count": 6,
   "id": "add-odometry-code",
   "metadata": {},
   "outputs": [],
   "source": [
    "# 2b. Add odometry factors (Between Factors)\n",
    "# Between poses 1 and 2:\n",
    "graph.add(gtsam.BetweenFactorPose2(1, 2, gtsam.Pose2(2, 0, 0), ODOMETRY_NOISE))\n",
    "# Between poses 2 and 3:\n",
    "graph.add(gtsam.BetweenFactorPose2(2, 3, gtsam.Pose2(2, 0, math.pi / 2), ODOMETRY_NOISE))\n",
    "# Between poses 3 and 4:\n",
    "graph.add(gtsam.BetweenFactorPose2(3, 4, gtsam.Pose2(2, 0, math.pi / 2), ODOMETRY_NOISE))\n",
    "# Between poses 4 and 5:\n",
    "graph.add(gtsam.BetweenFactorPose2(4, 5, gtsam.Pose2(2, 0, math.pi / 2), ODOMETRY_NOISE))"
   ]
  },
  {
   "cell_type": "markdown",
   "id": "add-loop-closure-markdown",
   "metadata": {},
   "source": [
    "### 3.3 Add Loop Closure Factor\n",
    "\n",
    "This is the crucial step for correcting drift. We add a `BetweenFactorPose2` connecting the last pose ($x_5$, key `5`) back to the second pose ($x_2$, key `2`). The measurement represents the expected relative transform between pose 5 and pose 2 if the robot correctly returned to the location of $x_2$. We assume this measurement is also subject to `ODOMETRY_NOISE`.\n",
    "\n",
    "The relative pose `gtsam.Pose2(2, 0, math.pi / 2)` implies that pose 2 is 2m ahead and rotated by +90 degrees relative to pose 5."
   ]
  },
  {
   "cell_type": "code",
   "execution_count": 7,
   "id": "add-loop-closure-code",
   "metadata": {},
   "outputs": [],
   "source": [
    "# 2c. Add the loop closure constraint\n",
    "# This factor connects pose 5 back to pose 2\n",
    "# The measurement is the expected relative pose from 5 to 2\n",
    "graph.add(gtsam.BetweenFactorPose2(5, 2, gtsam.Pose2(2, 0, math.pi / 2), ODOMETRY_NOISE))"
   ]
  },
  {
   "cell_type": "markdown",
   "id": "inspect-graph-markdown",
   "metadata": {},
   "source": [
    "### 3.4 Inspect the Graph\n",
    "\n",
    "Print the graph to see the factors and the variables they connect."
   ]
  },
  {
   "cell_type": "code",
   "execution_count": 8,
   "id": "inspect-graph-code",
   "metadata": {},
   "outputs": [
    {
     "name": "stdout",
     "output_type": "stream",
     "text": [
      "\n",
      "Factor Graph:\n",
      "NonlinearFactorGraph: size: 6\n",
      "\n",
      "Factor 0: PriorFactor on 1\n",
      "  prior mean:  (0, 0, 0)\n",
      "  noise model: diagonal sigmas [0.3; 0.3; 0.1];\n",
      "\n",
      "Factor 1: BetweenFactor(1,2)\n",
      "  measured:  (2, 0, 0)\n",
      "  noise model: diagonal sigmas [0.2; 0.2; 0.1];\n",
      "\n",
      "Factor 2: BetweenFactor(2,3)\n",
      "  measured:  (2, 0, 1.57079633)\n",
      "  noise model: diagonal sigmas [0.2; 0.2; 0.1];\n",
      "\n",
      "Factor 3: BetweenFactor(3,4)\n",
      "  measured:  (2, 0, 1.57079633)\n",
      "  noise model: diagonal sigmas [0.2; 0.2; 0.1];\n",
      "\n",
      "Factor 4: BetweenFactor(4,5)\n",
      "  measured:  (2, 0, 1.57079633)\n",
      "  noise model: diagonal sigmas [0.2; 0.2; 0.1];\n",
      "\n",
      "Factor 5: BetweenFactor(5,2)\n",
      "  measured:  (2, 0, 1.57079633)\n",
      "  noise model: diagonal sigmas [0.2; 0.2; 0.1];\n",
      "\n",
      "\n"
     ]
    }
   ],
   "source": [
    "print(\"\\nFactor Graph:\\n{}\".format(graph))"
   ]
  },
  {
   "cell_type": "markdown",
   "id": "initial-estimate-markdown",
   "metadata": {},
   "source": [
    "## 4. Create Initial Estimate\n",
    "\n",
    "We need an initial guess for the optimizer. To illustrate the optimizer's power, we provide deliberately incorrect initial values for the poses in a `gtsam.Values` container. Without the loop closure, these errors would likely accumulate significantly."
   ]
  },
  {
   "cell_type": "code",
   "execution_count": 9,
   "id": "initial-estimate-code",
   "metadata": {},
   "outputs": [
    {
     "name": "stdout",
     "output_type": "stream",
     "text": [
      "\n",
      "Initial Estimate:\n",
      "Values with 5 values:\n",
      "Value 1: (gtsam::Pose2)\n",
      "(0.5, 0, 0.2)\n",
      "\n",
      "Value 2: (gtsam::Pose2)\n",
      "(2.3, 0.1, -0.2)\n",
      "\n",
      "Value 3: (gtsam::Pose2)\n",
      "(4.1, 0.1, 1.57079633)\n",
      "\n",
      "Value 4: (gtsam::Pose2)\n",
      "(4, 2, 3.14159265)\n",
      "\n",
      "Value 5: (gtsam::Pose2)\n",
      "(2.1, 2.1, -1.57079633)\n",
      "\n",
      "\n"
     ]
    }
   ],
   "source": [
    "# 3. Create the initial estimate for the solution\n",
    "# These values are deliberately incorrect to show optimization.\n",
    "initial_estimate = gtsam.Values()\n",
    "initial_estimate.insert(1, gtsam.Pose2(0.5, 0.0, 0.2))\n",
    "initial_estimate.insert(2, gtsam.Pose2(2.3, 0.1, -0.2))\n",
    "initial_estimate.insert(3, gtsam.Pose2(4.1, 0.1, math.pi / 2))\n",
    "initial_estimate.insert(4, gtsam.Pose2(4.0, 2.0, math.pi))\n",
    "initial_estimate.insert(5, gtsam.Pose2(2.1, 2.1, -math.pi / 2))\n",
    "\n",
    "print(\"\\nInitial Estimate:\\n{}\".format(initial_estimate))"
   ]
  },
  {
   "cell_type": "markdown",
   "id": "4d85a286",
   "metadata": {},
   "source": [
    "Now that we have an initial estimate we can also visualize the graph:"
   ]
  },
  {
   "cell_type": "code",
   "execution_count": 17,
   "id": "40471c87",
   "metadata": {},
   "outputs": [
    {
     "data": {
      "image/svg+xml": [
       "<?xml version=\"1.0\" encoding=\"UTF-8\" standalone=\"no\"?>\n",
       "<!DOCTYPE svg PUBLIC \"-//W3C//DTD SVG 1.1//EN\"\n",
       " \"http://www.w3.org/Graphics/SVG/1.1/DTD/svg11.dtd\">\n",
       "<!-- Generated by graphviz version 12.0.0 (0)\n",
       " -->\n",
       "<!-- Pages: 1 -->\n",
       "<svg width=\"220pt\" height=\"360pt\"\n",
       " viewBox=\"0.00 0.00 220.48 360.00\" xmlns=\"http://www.w3.org/2000/svg\" xmlns:xlink=\"http://www.w3.org/1999/xlink\">\n",
       "<g id=\"graph0\" class=\"graph\" transform=\"scale(0.861758 0.861758) rotate(0) translate(4 413.75)\">\n",
       "<polygon fill=\"white\" stroke=\"none\" points=\"-4,4 -4,-413.75 251.85,-413.75 251.85,4 -4,4\"/>\n",
       "<!-- var1 -->\n",
       "<g id=\"node1\" class=\"node\">\n",
       "<title>var1</title>\n",
       "<ellipse fill=\"none\" stroke=\"black\" cx=\"52.38\" cy=\"-132.55\" rx=\"27\" ry=\"18\"/>\n",
       "<text text-anchor=\"middle\" x=\"52.38\" y=\"-127.5\" font-family=\"Times,serif\" font-size=\"14.00\">1</text>\n",
       "</g>\n",
       "<!-- factor0 -->\n",
       "<g id=\"node6\" class=\"node\">\n",
       "<title>factor0</title>\n",
       "<ellipse fill=\"black\" stroke=\"black\" cx=\"26.65\" cy=\"-1.8\" rx=\"1.8\" ry=\"1.8\"/>\n",
       "</g>\n",
       "<!-- var1&#45;&#45;factor0 -->\n",
       "<g id=\"edge1\" class=\"edge\">\n",
       "<title>var1&#45;&#45;factor0</title>\n",
       "<path fill=\"none\" stroke=\"black\" d=\"M48.8,-114.37C42.45,-82.09 29.63,-16.95 27.09,-4.05\"/>\n",
       "</g>\n",
       "<!-- factor1 -->\n",
       "<g id=\"node7\" class=\"node\">\n",
       "<title>factor1</title>\n",
       "<ellipse fill=\"black\" stroke=\"black\" cx=\"4.08\" cy=\"-114.87\" rx=\"1.8\" ry=\"1.8\"/>\n",
       "</g>\n",
       "<!-- var1&#45;&#45;factor1 -->\n",
       "<g id=\"edge2\" class=\"edge\">\n",
       "<title>var1&#45;&#45;factor1</title>\n",
       "<path fill=\"none\" stroke=\"black\" d=\"M28.23,-123.71C19.17,-120.39 10.11,-117.08 6.15,-115.63\"/>\n",
       "</g>\n",
       "<!-- var2 -->\n",
       "<g id=\"node2\" class=\"node\">\n",
       "<title>var2</title>\n",
       "<ellipse fill=\"none\" stroke=\"black\" cx=\"59.58\" cy=\"-262.15\" rx=\"27\" ry=\"18\"/>\n",
       "<text text-anchor=\"middle\" x=\"59.58\" y=\"-257.1\" font-family=\"Times,serif\" font-size=\"14.00\">2</text>\n",
       "</g>\n",
       "<!-- var2&#45;&#45;factor1 -->\n",
       "<g id=\"edge3\" class=\"edge\">\n",
       "<title>var2&#45;&#45;factor1</title>\n",
       "<path fill=\"none\" stroke=\"black\" d=\"M52.88,-244.38C39.39,-208.58 9.78,-130.02 4.8,-116.78\"/>\n",
       "</g>\n",
       "<!-- factor2 -->\n",
       "<g id=\"node8\" class=\"node\">\n",
       "<title>factor2</title>\n",
       "<ellipse fill=\"black\" stroke=\"black\" cx=\"1.8\" cy=\"-252.36\" rx=\"1.8\" ry=\"1.8\"/>\n",
       "</g>\n",
       "<!-- var2&#45;&#45;factor2 -->\n",
       "<g id=\"edge4\" class=\"edge\">\n",
       "<title>var2&#45;&#45;factor2</title>\n",
       "<path fill=\"none\" stroke=\"black\" d=\"M33.06,-257.66C21.19,-255.65 8.79,-253.54 3.93,-252.72\"/>\n",
       "</g>\n",
       "<!-- factor5 -->\n",
       "<g id=\"node11\" class=\"node\">\n",
       "<title>factor5</title>\n",
       "<ellipse fill=\"black\" stroke=\"black\" cx=\"132.69\" cy=\"-169.69\" rx=\"1.8\" ry=\"1.8\"/>\n",
       "</g>\n",
       "<!-- var2&#45;&#45;factor5 -->\n",
       "<g id=\"edge11\" class=\"edge\">\n",
       "<title>var2&#45;&#45;factor5</title>\n",
       "<path fill=\"none\" stroke=\"black\" d=\"M72.31,-246.04C90.97,-222.45 124.28,-180.31 131.35,-171.38\"/>\n",
       "</g>\n",
       "<!-- var3 -->\n",
       "<g id=\"node3\" class=\"node\">\n",
       "<title>var3</title>\n",
       "<ellipse fill=\"none\" stroke=\"black\" cx=\"59.58\" cy=\"-391.75\" rx=\"27\" ry=\"18\"/>\n",
       "<text text-anchor=\"middle\" x=\"59.58\" y=\"-386.7\" font-family=\"Times,serif\" font-size=\"14.00\">3</text>\n",
       "</g>\n",
       "<!-- var3&#45;&#45;factor2 -->\n",
       "<g id=\"edge5\" class=\"edge\">\n",
       "<title>var3&#45;&#45;factor2</title>\n",
       "<path fill=\"none\" stroke=\"black\" d=\"M52.26,-374.1C38.17,-340.1 8.18,-267.74 2.68,-254.47\"/>\n",
       "</g>\n",
       "<!-- factor3 -->\n",
       "<g id=\"node9\" class=\"node\">\n",
       "<title>factor3</title>\n",
       "<ellipse fill=\"black\" stroke=\"black\" cx=\"122.11\" cy=\"-326.96\" rx=\"1.8\" ry=\"1.8\"/>\n",
       "</g>\n",
       "<!-- var3&#45;&#45;factor3 -->\n",
       "<g id=\"edge6\" class=\"edge\">\n",
       "<title>var3&#45;&#45;factor3</title>\n",
       "<path fill=\"none\" stroke=\"black\" d=\"M74.4,-376.4C90.58,-359.63 114.98,-334.36 120.82,-328.3\"/>\n",
       "</g>\n",
       "<!-- var4 -->\n",
       "<g id=\"node4\" class=\"node\">\n",
       "<title>var4</title>\n",
       "<ellipse fill=\"none\" stroke=\"black\" cx=\"196.38\" cy=\"-384.55\" rx=\"27\" ry=\"18\"/>\n",
       "<text text-anchor=\"middle\" x=\"196.38\" y=\"-379.5\" font-family=\"Times,serif\" font-size=\"14.00\">4</text>\n",
       "</g>\n",
       "<!-- var4&#45;&#45;factor3 -->\n",
       "<g id=\"edge7\" class=\"edge\">\n",
       "<title>var4&#45;&#45;factor3</title>\n",
       "<path fill=\"none\" stroke=\"black\" d=\"M178.4,-370.61C159.17,-355.7 130.5,-333.47 123.63,-328.14\"/>\n",
       "</g>\n",
       "<!-- factor4 -->\n",
       "<g id=\"node10\" class=\"node\">\n",
       "<title>factor4</title>\n",
       "<ellipse fill=\"black\" stroke=\"black\" cx=\"246.05\" cy=\"-279.84\" rx=\"1.8\" ry=\"1.8\"/>\n",
       "</g>\n",
       "<!-- var4&#45;&#45;factor4 -->\n",
       "<g id=\"edge8\" class=\"edge\">\n",
       "<title>var4&#45;&#45;factor4</title>\n",
       "<path fill=\"none\" stroke=\"black\" d=\"M204.58,-367.26C217.15,-340.77 240.22,-292.12 245.12,-281.8\"/>\n",
       "</g>\n",
       "<!-- var5 -->\n",
       "<g id=\"node5\" class=\"node\">\n",
       "<title>var5</title>\n",
       "<ellipse fill=\"none\" stroke=\"black\" cx=\"203.58\" cy=\"-247.75\" rx=\"27\" ry=\"18\"/>\n",
       "<text text-anchor=\"middle\" x=\"203.58\" y=\"-242.7\" font-family=\"Times,serif\" font-size=\"14.00\">5</text>\n",
       "</g>\n",
       "<!-- var5&#45;&#45;factor4 -->\n",
       "<g id=\"edge9\" class=\"edge\">\n",
       "<title>var5&#45;&#45;factor4</title>\n",
       "<path fill=\"none\" stroke=\"black\" d=\"M221.84,-261.54C230.83,-268.34 240.55,-275.68 244.37,-278.57\"/>\n",
       "</g>\n",
       "<!-- var5&#45;&#45;factor5 -->\n",
       "<g id=\"edge10\" class=\"edge\">\n",
       "<title>var5&#45;&#45;factor5</title>\n",
       "<path fill=\"none\" stroke=\"black\" d=\"M189.57,-232.33C171.17,-212.07 140.42,-178.21 133.92,-171.04\"/>\n",
       "</g>\n",
       "</g>\n",
       "</svg>\n"
      ],
      "text/plain": [
       "<graphviz.sources.Source at 0x10dab4890>"
      ]
     },
     "metadata": {},
     "output_type": "display_data"
    }
   ],
   "source": [
    "display(graphviz.Source(graph.dot(initial_estimate), engine='neato'))"
   ]
  },
  {
   "cell_type": "markdown",
   "id": "optimize-markdown",
   "metadata": {},
   "source": [
    "## 5. Optimize the Factor Graph\n",
    "\n",
    "We'll use the Gauss-Newton optimizer to find the most likely configuration of poses.\n",
    "\n",
    "1.  Set optimization parameters using `gtsam.GaussNewtonParams` (e.g., error tolerance, max iterations).\n",
    "2.  Create the `gtsam.GaussNewtonOptimizer` instance with the graph, initial estimate, and parameters.\n",
    "3.  Run `optimizer.optimize()`."
   ]
  },
  {
   "cell_type": "code",
   "execution_count": 10,
   "id": "optimize-code",
   "metadata": {},
   "outputs": [
    {
     "name": "stdout",
     "output_type": "stream",
     "text": [
      "\n",
      "Final Result:\n",
      "Values with 5 values:\n",
      "Value 1: (gtsam::Pose2)\n",
      "(-8.50051783e-21, -7.35289215e-20, -2.34289062e-20)\n",
      "\n",
      "Value 2: (gtsam::Pose2)\n",
      "(2, -1.53066255e-19, -3.05180521e-20)\n",
      "\n",
      "Value 3: (gtsam::Pose2)\n",
      "(4, -3.42173677e-11, 1.57079633)\n",
      "\n",
      "Value 4: (gtsam::Pose2)\n",
      "(4, 2, 3.14159265)\n",
      "\n",
      "Value 5: (gtsam::Pose2)\n",
      "(2, 2, -1.57079633)\n",
      "\n",
      "\n"
     ]
    }
   ],
   "source": [
    "# 4. Optimize the initial values using Gauss-Newton\n",
    "parameters = gtsam.GaussNewtonParams()\n",
    "\n",
    "# Set optimization parameters\n",
    "parameters.setRelativeErrorTol(1e-5) # Stop when change in error is small\n",
    "parameters.setMaxIterations(100)     # Limit iterations\n",
    "\n",
    "# Create the optimizer\n",
    "optimizer = gtsam.GaussNewtonOptimizer(graph, initial_estimate, parameters)\n",
    "\n",
    "# Optimize!\n",
    "result = optimizer.optimize()\n",
    "\n",
    "print(\"\\nFinal Result:\\n{}\".format(result))"
   ]
  },
  {
   "cell_type": "markdown",
   "id": "marginals-markdown",
   "metadata": {},
   "source": [
    "## 6. Calculate Marginal Covariances\n",
    "\n",
    "After optimization, we can compute the uncertainty (covariance) associated with each estimated pose using `gtsam.Marginals`."
   ]
  },
  {
   "cell_type": "code",
   "execution_count": 11,
   "id": "marginals-code",
   "metadata": {},
   "outputs": [
    {
     "name": "stdout",
     "output_type": "stream",
     "text": [
      "\n",
      "Marginal Covariances:\n",
      "X1 covariance:\n",
      "[[ 9.00000000e-02  1.96306337e-18 -1.49103687e-17]\n",
      " [ 1.96306337e-18  9.00000000e-02 -7.03437308e-17]\n",
      " [-1.49103687e-17 -7.03437308e-17  1.00000000e-02]]\n",
      "\n",
      "X2 covariance:\n",
      "[[ 1.30000000e-01 -3.89782542e-17 -4.37043325e-17]\n",
      " [-3.89782542e-17  1.70000000e-01  2.00000000e-02]\n",
      " [-4.37043325e-17  2.00000000e-02  2.00000000e-02]]\n",
      "\n",
      "X3 covariance:\n",
      "[[ 3.62000000e-01 -3.29291732e-12  6.20000000e-02]\n",
      " [-3.29291394e-12  1.62000000e-01 -2.00000000e-03]\n",
      " [ 6.20000000e-02 -2.00000000e-03  2.65000000e-02]]\n",
      "\n",
      "X4 covariance:\n",
      "[[ 0.268 -0.128  0.048]\n",
      " [-0.128  0.378 -0.068]\n",
      " [ 0.048 -0.068  0.028]]\n",
      "\n",
      "X5 covariance:\n",
      "[[ 0.202   0.036  -0.018 ]\n",
      " [ 0.036   0.26   -0.051 ]\n",
      " [-0.018  -0.051   0.0265]]\n",
      "\n"
     ]
    }
   ],
   "source": [
    "# 5. Calculate and print marginal covariances\n",
    "marginals = gtsam.Marginals(graph, result)\n",
    "print(\"\\nMarginal Covariances:\")\n",
    "for i in range(1, 6):\n",
    "    print(f\"X{i} covariance:\\n{marginals.marginalCovariance(i)}\\n\")"
   ]
  },
  {
   "cell_type": "markdown",
   "id": "visualize-markdown",
   "metadata": {},
   "source": [
    "## 7. Visualize Results\n",
    "\n",
    "Finally, we use `gtsam.utils.plot.plot_pose2` to visualize the optimized poses along with their covariance ellipses. Notice how the poses form a square, and the loop closure (connecting pose 5 back to pose 2) helps maintain this structure despite the initial errors and odometry noise. The covariance ellipses show the uncertainty, which is typically smallest at the prior (pose 1) and might be reduced near the loop closure."
   ]
  },
  {
   "cell_type": "code",
   "execution_count": 13,
   "id": "visualize-code",
   "metadata": {},
   "outputs": [
    {
     "data": {
      "image/png": "[encoded data removed]",
      "text/plain": [
       "<Figure size 800x800 with 1 Axes>"
      ]
     },
     "metadata": {},
     "output_type": "display_data"
    }
   ],
   "source": [
    "# Plot the results\n",
    "fig = plt.figure(0, figsize=(8, 8))\n",
    "\n",
    "for i in range(1, 6):\n",
    "    # Plot pose with covariance ellipse\n",
    "    gtsam_plot.plot_pose2(fig.number, result.atPose2(i), axis_length=0.4,\n",
    "                           covariance=marginals.marginalCovariance(i))\n",
    "\n",
    "# Adjust plot settings\n",
    "plt.title(\"Optimized Poses with Covariance Ellipses\")\n",
    "plt.xlabel(\"X axis\")\n",
    "plt.ylabel(\"Y axis\")\n",
    "plt.axis('equal') # Ensure equal scaling on x and y axes\n",
    "plt.show()      # Display the plot"
   ]
  },
  {
   "cell_type": "markdown",
   "id": "summary-markdown",
   "metadata": {},
   "source": [
    "## Summary\n",
    "\n",
    "This example demonstrated a Pose SLAM problem where:\n",
    "1.  We modeled robot poses and odometry measurements using a `gtsam.NonlinearFactorGraph`.\n",
    "2.  A prior was added to the first pose.\n",
    "3.  Sequential odometry factors were added between consecutive poses.\n",
    "4.  A crucial loop closure factor was added, connecting the last pose back to an earlier one.\n",
    "5.  An inaccurate initial estimate was provided.\n",
    "6.  The `gtsam.GaussNewtonOptimizer` was used to find the optimal pose estimates.\n",
    "7.  Marginal covariances were calculated to show the uncertainty.\n",
    "8.  The results, including covariance ellipses, were visualized, highlighting the effect of the loop closure in correcting drift."
   ]
  }
 ],
 "metadata": {
  "kernelspec": {
   "display_name": "py312",
   "language": "python",
   "name": "python3"
  },
  "language_info": {
   "codemirror_mode": {
    "name": "ipython",
    "version": 3
   },
   "file_extension": ".py",
   "mimetype": "text/x-python",
   "name": "python",
   "nbconvert_exporter": "python",
   "pygments_lexer": "ipython3",
   "version": "3.12.6"
  }
 },
 "nbformat": 4,
 "nbformat_minor": 5
}
