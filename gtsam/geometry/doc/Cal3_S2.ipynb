{
  "cells": [
    {
      "cell_type": "markdown",
      "metadata": {
        "id": "cal3s2-title"
      },
      "source": [
        "# Cal3_S2"
      ]
    },
    {
      "cell_type": "markdown",
      "metadata": {
        "id": "cal3s2-intro"
      },
      "source": [
        "A `gtsam.Cal3_S2` represents a simple 5-parameter camera calibration model. This model is commonly used and includes parameters for focal lengths ($f_x, f_y$), skew ($s$), and the principal point ($u_0, v_0$). It does not model lens distortion. The calibration matrix $K$ is defined as:\n",
        "\n",
        "$$\n",
        "K = \\begin{bmatrix} f_x & s & u_0 \\\\ 0 & f_y & v_0 \\\\ 0 & 0 & 1 \\end{bmatrix}\n",
        "$$"
      ]
    },
    {
      "cell_type": "markdown",
      "metadata": {
        "id": "cal3s2-colab-badge"
      },
      "source": [
        "<a href=\"https://colab.research.google.com/github/borglab/gtsam/blob/develop/gtsam/geometry/doc/Cal3_S2.ipynb\" target=\"_parent\"><img src=\"https://colab.research.google.com/assets/colab-badge.svg\" alt=\"Open In Colab\"/></a>"
      ]
    },
    {
      "cell_type": "code",
      "execution_count": 1,
      "metadata": {
        "id": "cal3s2-pip-install"
      },
      "outputs": [
        {
          "name": "stdout",
          "output_type": "stream",
          "text": [
            "Note: you may need to restart the kernel to use updated packages.\n"
          ]
        }
      ],
      "source": [
        "%pip install --quiet gtsam-develop"
      ]
    },
    {
      "cell_type": "code",
      "execution_count": 2,
      "metadata": {
        "id": "cal3s2-imports"
      },
      "outputs": [],
      "source": [
        "import gtsam\n",
        "import numpy as np\n",
        "from gtsam import Cal3_S2, Point2"
      ]
    },
    {
      "cell_type": "markdown",
      "metadata": {
        "id": "cal3s2-initialization-header"
      },
      "source": [
        "## Initialization"
      ]
    },
    {
      "cell_type": "markdown",
      "metadata": {},
      "source": [
        "A `Cal3_S2` can be initialized in several ways. Initializing with no arguments yields a calibration model with the identity matrix as the calibration matrix. You can also construct a particular model with either individual values for the focal lengths, skew, and principle point, or pass all parameters in a 5-vector."
      ]
    },
    {
      "cell_type": "code",
      "execution_count": null,
      "metadata": {
        "id": "cal3s2-initialization-code"
      },
      "outputs": [
        {
          "name": "stdout",
          "output_type": "stream",
          "text": [
            "Default constructor (fx=1, fy=1, s=0, u0=0, v0=0):\n",
            "Cal3_S2[\n",
            "\t1, 0, 0;\n",
            "\t0, 1, 0;\n",
            "\t0, 0, 1\n",
            "]\n",
            "\n",
            "fx: 1.0, fy: 1.0, s: 0.0, u0: 0.0, v0: 0.0\n",
            "\n",
            "From parameters (fx, fy, s, u0, v0):\n",
            "Cal3_S2[\n",
            "\t1500, 0.1, 320;\n",
            "\t0, 1600, 240;\n",
            "\t0, 0, 1\n",
            "]\n",
            "\n",
            "fx: 1500.0, fy: 1600.0, s: 0.1, u0: 320.0, v0: 240.0\n",
            "\n",
            "[320. 240.]\n",
            "From a 5-vector [fx, fy, s, u0, v0]:\n",
            "Cal3_S2[\n",
            "\t1500, 0.1, 320;\n",
            "\t0, 1600, 240;\n",
            "\t0, 0, 1\n",
            "]\n",
            "\n",
            "fx: 1500.0, fy: 1600.0, s: 0.1, u0: 320.0, v0: 240.0\n",
            "\n"
          ]
        }
      ],
      "source": [
        "# Default constructor: fx=1, fy=1, s=0, u0=0, v0=0\n",
        "cal0 = Cal3_S2()\n",
        "print(\"Default constructor (fx=1, fy=1, s=0, u0=0, v0=0):\")\n",
        "print(cal0)\n",
        "print(f\"fx: {cal0.fx()}, fy: {cal0.fy()}, s: {cal0.skew()}, u0: {cal0.px()}, v0: {cal0.py()}\\n\")\n",
        "\n",
        "# From individual parameters: fx, fy, s, u0, v0\n",
        "fx, fy, s, u0, v0 = 1500.0, 1600.0, 0.1, 320.0, 240.0\n",
        "cal1 = Cal3_S2(fx, fy, s, u0, v0)\n",
        "print(\"From parameters (fx, fy, s, u0, v0):\")\n",
        "print(cal1)\n",
        "print(f\"fx: {cal1.fx()}, fy: {cal1.fy()}, s: {cal1.skew()}, u0: {cal1.px()}, v0: {cal1.py()}\\n\")\n",
        "\n",
        "# From a 5-vector [fx, fy, s, u0, v0]\n",
        "cal_vector = np.array([1500.0, 1600.0, 0.1, 320.0, 240.0])\n",
        "cal2 = Cal3_S2(cal_vector)\n",
        "print(\"From a 5-vector [fx, fy, s, u0, v0]:\")\n",
        "print(cal2)\n",
        "print(f\"fx: {cal2.fx()}, fy: {cal2.fy()}, s: {cal2.skew()}, u0: {cal2.px()}, v0: {cal2.py()}\\n\")"
      ]
    },
    {
      "cell_type": "markdown",
      "metadata": {},
      "source": [
        "Additionally, you can construct a calbration model with the field-of-view (FOV), in degrees, and the image width and height. The resulting model assumes zero skew and unit aspect (i.e. square pixel). The resulting calibration model is expected to have\n",
        "$$u_0 = \\frac{\\text{width}}{2}, v_0 = \\frac{\\text{height}}{2}, s = 0$$\n",
        "$$f_x=f_y=\\frac{w}{2\\cdot\\tan\\left(\\frac{\\text{FOV in radians}}{2}\\right)}$$"
      ]
    },
    {
      "cell_type": "code",
      "execution_count": 17,
      "metadata": {},
      "outputs": [
        {
          "name": "stdout",
          "output_type": "stream",
          "text": [
            "From FOV (degrees) and image width and height:\n",
            "Cal3_S2[\n",
            "\t28.8675, 0, 50;\n",
            "\t0, 28.8675, 25;\n",
            "\t0, 0, 1\n",
            "]\n",
            "\n",
            "fx: 28.867513459481298, fy: 28.867513459481298, s: 0.0, u0: 50.0, v0: 25.0\n",
            "\n"
          ]
        }
      ],
      "source": [
        "# From FOV, width, and height\n",
        "fov, w, h = 120, 100, 50\n",
        "cal3 = Cal3_S2(fov, w, h)\n",
        "print(\"From FOV (degrees) and image width and height:\")\n",
        "print(cal3)\n",
        "print(f\"fx: {cal3.fx()}, fy: {cal3.fy()}, s: {cal3.skew()}, u0: {cal3.px()}, v0: {cal3.py()}\\n\")"
      ]
    },
    {
      "cell_type": "markdown",
      "metadata": {},
      "source": [
        "## Properties"
      ]
    },
    {
      "cell_type": "markdown",
      "metadata": {},
      "source": [
        "The model's properties can be access using the following member functions:\n",
        "- `fx()`: Returns the focal length of the camera scaled by the pixel density along the x-axis.\n",
        "- `fy()`: Returns the focal length of the camera scaled by the pixel density along the y-axis.\n",
        "- `aspectRatio()`: Returns the aspect ratio computed with $f_x / f_y$.\n",
        "- `skew()`: Returns the skew.\n",
        "- `px()`: Returns the image center x-coordinate with respect to the image frame.\n",
        "- `py()`: Returns the image center y-coordinate with respect to the image frame.\n",
        "- `principlePoint()`: Returns a `numpy.ndarray` with 5 elements depicting a vectorized form of the calibration parameters. The return 5-vector follow the following form $\\langle f_x, f_y, s, u_0, v_0 \\rangle$.\n",
        "- `K()`: Returns a `numpy.ndarray` with a $3\\times 3$ shape representing the calibration matrix $K$ for the model.\n",
        "- `inverse()`: Returns the inverted calibration matrix $K^{-1}$."
      ]
    },
    {
      "cell_type": "code",
      "execution_count": 23,
      "metadata": {
        "id": "cal3s2-accessors-code"
      },
      "outputs": [
        {
          "name": "stdout",
          "output_type": "stream",
          "text": [
            "Calibration object call:\n",
            "fx: 1500.0\n",
            "fy: 1600.0\n",
            "s: 0.1\n",
            "u0: 320.0\n",
            "v0: 240.0\n",
            "Principal point (u0, v0): [320. 240.]\n",
            "Calibration vector [fx, fy, s, u0, v0]: [1.5e+03 1.6e+03 1.0e-01 3.2e+02 2.4e+02]\n",
            "K matrix:\n",
            "[[1.5e+03 1.0e-01 3.2e+02]\n",
            " [0.0e+00 1.6e+03 2.4e+02]\n",
            " [0.0e+00 0.0e+00 1.0e+00]]\n",
            "inv(K) matrix:\n",
            "[[ 6.66666667e-04 -4.16666667e-08 -2.13323333e-01]\n",
            " [ 0.00000000e+00  6.25000000e-04 -1.50000000e-01]\n",
            " [ 0.00000000e+00  0.00000000e+00  1.00000000e+00]]\n"
          ]
        }
      ],
      "source": [
        "fx, fy, s, u0, v0 = 1500.0, 1600.0, 0.1, 320.0, 240.0\n",
        "cal4 = Cal3_S2(fx, fy, s, u0, v0)\n",
        "\n",
        "print(\"Calibration object call:\")\n",
        "print(f\"fx: {cal4.fx()}\")\n",
        "print(f\"fy: {cal4.fy()}\")\n",
        "print(f\"s: {cal4.skew()}\")\n",
        "print(f\"u0: {cal4.px()}\")\n",
        "print(f\"v0: {cal4.py()}\")\n",
        "print(f\"Principal point (u0, v0): {cal4.principalPoint()}\")\n",
        "print(f\"Calibration vector [fx, fy, s, u0, v0]: {cal4.vector()}\")\n",
        "print(f\"K matrix:\\n{cal4.K()}\")\n",
        "print(f\"inv(K) matrix:\\n{cal4.inverse()}\")"
      ]
    },
    {
      "cell_type": "markdown",
      "metadata": {},
      "source": [
        "## Basic Operations"
      ]
    },
    {
      "cell_type": "markdown",
      "metadata": {},
      "source": [
        "### Calibration Operations"
      ]
    },
    {
      "cell_type": "markdown",
      "metadata": {
        "id": "cal3s2-operations-header"
      },
      "source": [
        "`Cal3_S2` provides methods to convert points between normalized image coordinates and pixel coordinates."
      ]
    },
    {
      "cell_type": "markdown",
      "metadata": {
        "id": "cal3s2-calibrate-header"
      },
      "source": [
        "The `calibrate(p)` method converts a 2D point `p` from normalized image coordinates (where the image plane is at Z=1) to pixel coordinates. The formula is $p_{pixels} = K \\cdot p_{normalized}$, where $p_{normalized}$ is a 2D point $(x,y)$ conceptually extended to homogeneous coordinates $(x,y,1)^T$ for matrix multiplication, and the result is then projected back to 2D pixel coordinates."
      ]
    },
    {
      "cell_type": "code",
      "execution_count": 34,
      "metadata": {
        "id": "cal3s2-calibrate-code"
      },
      "outputs": [
        {
          "name": "stdout",
          "output_type": "stream",
          "text": [
            "Normalized point p_n: [0.2 0.3]\n",
            "Calibrated (pixel) point p_p: [-0.21319001 -0.1498125 ]\n"
          ]
        }
      ],
      "source": [
        "fx, fy, s, u0, v0 = 1500.0, 1600.0, 0.1, 320.0, 240.0\n",
        "cal_model = Cal3_S2(fx, fy, s, u0, v0)\n",
        "\n",
        "p_normalized = Point2(0.2, 0.3)\n",
        "print(f\"Normalized point p_n: {p_normalized}\")\n",
        "\n",
        "p_pixel = cal_model.calibrate(p_normalized)\n",
        "print(f\"Calibrated (pixel) point p_p: {p_pixel}\")"
      ]
    },
    {
      "cell_type": "markdown",
      "metadata": {
        "id": "cal3s2-uncalibrate-header"
      },
      "source": [
        "The `uncalibrate(p)` method converts a 2D point `p` from pixel coordinates back to normalized image coordinates. This is the inverse operation of `calibrate()`. The formula is $p_{normalized} = K^{-1} \\cdot p_{pixels}$."
      ]
    },
    {
      "cell_type": "code",
      "execution_count": 35,
      "metadata": {
        "id": "cal3s2-uncalibrate-code"
      },
      "outputs": [
        {
          "name": "stdout",
          "output_type": "stream",
          "text": [
            "Pixel point p_p: [-0.21319001 -0.1498125 ]\n",
            "Uncalibrated (normalized) point p_n_recovered: [0.2 0.3]\n"
          ]
        }
      ],
      "source": [
        "p_n_recovered = cal_model.uncalibrate(p_pixel)\n",
        "print(f\"Pixel point p_p: {p_pixel}\")\n",
        "print(f\"Uncalibrated (normalized) point p_n_recovered: {p_n_recovered}\")"
      ]
    },
    {
      "cell_type": "markdown",
      "metadata": {
        "id": "cal3s2-jacobian-header"
      },
      "source": [
        "Both `calibrate` and `uncalibrate` can optionally compute Jacobians with respect to the calibration parameters (`Dcal`) and the input point (`Dp`). This is useful for optimization tasks. Note that matrices you pass in must be column-major arrays with the correct shape."
      ]
    },
    {
      "cell_type": "code",
      "execution_count": 53,
      "metadata": {
        "id": "cal3s2-jacobian-code"
      },
      "outputs": [
        {
          "name": "stdout",
          "output_type": "stream",
          "text": [
            "Jacobian Dcal_calibrate:\n",
            "[[ 1.42126675e-04 -6.24218750e-09  9.98750000e-05 -6.66666667e-04\n",
            "   4.16666667e-08]\n",
            " [ 0.00000000e+00  9.36328125e-05  0.00000000e+00  0.00000000e+00\n",
            "  -6.25000000e-04]]\n",
            "Jacobian Dp_calibrate:\n",
            "[[ 6.66666667e-04 -4.16666667e-08]\n",
            " [ 0.00000000e+00  6.25000000e-04]]\n"
          ]
        }
      ],
      "source": [
        "# Jacobians for calibrate(p_normalized)\n",
        "Dcal_calibrate = np.zeros((2, 5), order='F')\n",
        "Dp_calibrate = np.zeros((2, 2), order='F')\n",
        "_ = cal_model.calibrate(p_normalized, Dcal_calibrate, Dp_calibrate) # Calibrated point is returned, assign to _\n",
        "print(f\"Jacobian Dcal_calibrate:\\n{Dcal_calibrate}\")\n",
        "print(f\"Jacobian Dp_calibrate:\\n{Dp_calibrate}\")"
      ]
    },
    {
      "cell_type": "markdown",
      "metadata": {},
      "source": [
        "### Manifold Operations"
      ]
    },
    {
      "cell_type": "markdown",
      "metadata": {
        "id": "cal3s2-manifold-header"
      },
      "source": [
        "`Cal3_S2`, like many geometric types in GTSAM, is treated as a manifold. This means it supports operations like `retract` (moving on the manifold given a tangent vector) and `localCoordinates` (finding the tangent vector between two points on the manifold)."
      ]
    },
    {
      "cell_type": "code",
      "execution_count": 60,
      "metadata": {
        "id": "cal3s2-manifold-code"
      },
      "outputs": [
        {
          "name": "stdout",
          "output_type": "stream",
          "text": [
            "Original cal_model:\n",
            "Cal3_S2[\n",
            "\t1500, 0.1, 320;\n",
            "\t0, 1600, 240;\n",
            "\t0, 0, 1\n",
            "]\n",
            "\n",
            "Delta vector: [10.   20.    0.05  1.   -1.  ]\n",
            "Retracted cal_retracted:\n",
            "Cal3_S2[\n",
            "\t1510, 0.15, 321;\n",
            "\t0, 1620, 239;\n",
            "\t0, 0, 1\n",
            "]\n",
            "\n",
            "\n",
            "Local coordinates from cal_model to cal_retracted:\n",
            "[10.   20.    0.05  1.   -1.  ]\n"
          ]
        }
      ],
      "source": [
        "print(\"Original cal_model:\")\n",
        "print(cal_model)\n",
        "\n",
        "# Retract: Apply a delta to the calibration parameters\n",
        "delta_vec = np.array([10.0, 20.0, 0.05, 1.0, -1.0])\n",
        "cal_retracted = cal_model.retract(delta_vec)\n",
        "print(f\"Delta vector: {delta_vec}\")\n",
        "print(\"Retracted cal_retracted:\")\n",
        "print(cal_retracted)\n",
        "\n",
        "# Local coordinates: Find the delta between two calibrations\n",
        "local_coords = cal_model.localCoordinates(cal_retracted)\n",
        "print(\"\\nLocal coordinates from cal_model to cal_retracted:\")\n",
        "print(local_coords)"
      ]
    },
    {
      "cell_type": "markdown",
      "metadata": {
        "id": "cal3s2-other-header"
      },
      "source": [
        "### Other Utility Functions"
      ]
    },
    {
      "cell_type": "code",
      "execution_count": 62,
      "metadata": {
        "id": "cal3s2-other-code"
      },
      "outputs": [
        {
          "name": "stdout",
          "output_type": "stream",
          "text": [
            "cal_model:\n",
            "Cal3_S2[\n",
            "\t1500, 0.1, 320;\n",
            "\t0, 1600, 240;\n",
            "\t0, 0, 1\n",
            "]\n",
            "\n",
            "cal_eq:\n",
            "Cal3_S2[\n",
            "\t1500, 0.1, 320;\n",
            "\t0, 1600, 240;\n",
            "\t0, 0, 1\n",
            "]\n",
            "\n",
            "cal_diff:\n",
            "Cal3_S2[\n",
            "\t1501, 0.1, 320;\n",
            "\t0, 1600, 240;\n",
            "\t0, 0, 1\n",
            "]\n",
            "\n",
            "cal1 equals cal2? True\n",
            "cal1 equals cal_different? False\n",
            "cal1 equals cal_different with tol=1.5? True\n"
          ]
        }
      ],
      "source": [
        "cal_vector_for_eq = np.array([1500.0, 1600.0, 0.1, 320.0, 240.0])\n",
        "cal_almost_eq_vector = np.array([1501.0, 1600.0, 0.1, 320.0, 240.0])\n",
        "\n",
        "cal_eq = Cal3_S2(cal_vector_for_eq)\n",
        "cal_diff = Cal3_S2(cal_almost_eq_vector)\n",
        "\n",
        "print(\"cal_model:\")\n",
        "print(cal_model)\n",
        "print(\"cal_eq:\")\n",
        "print(cal_eq)\n",
        "print(\"cal_diff:\")\n",
        "print(cal_diff)\n",
        "\n",
        "# Equals: Compare two Cal3_S2 objects with a tolerance\n",
        "print(f\"cal1 equals cal2? {cal_model.equals(cal_eq, 1e-9)}\")\n",
        "print(f\"cal1 equals cal_different? {cal_model.equals(cal_diff, 1e-9)}\")\n",
        "print(f\"cal1 equals cal_different with tol=1.5? {cal_model.equals(cal_diff, 1.5)}\")"
      ]
    }
  ],
  "metadata": {
    "colab": {
      "provenance": []
    },
    "kernelspec": {
      "display_name": ".venv",
      "language": "python",
      "name": "python3"
    },
    "language_info": {
      "codemirror_mode": {
        "name": "ipython",
        "version": 3
      },
      "file_extension": ".py",
      "mimetype": "text/x-python",
      "name": "python",
      "nbconvert_exporter": "python",
      "pygments_lexer": "ipython3",
      "version": "3.12.3"
    }
  },
  "nbformat": 4,
  "nbformat_minor": 0
}
