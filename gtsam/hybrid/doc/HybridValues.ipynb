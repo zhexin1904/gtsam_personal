{
  "cells": [
    {
      "cell_type": "markdown",
      "metadata": {},
      "source": [
        "# HybridValues"
      ]
    },
    {
      "cell_type": "markdown",
      "metadata": {},
      "source": [
        "<a href=\"https://colab.research.google.com/github/borglab/gtsam/blob/develop/gtsam/hybrid/doc/HybridValues.ipynb\" target=\"_parent\"><img src=\"https://colab.research.google.com/assets/colab-badge.svg\" alt=\"Open In Colab\"/></a>"
      ]
    },
    {
      "cell_type": "code",
      "execution_count": 1,
      "id": "a7158ed5",
      "metadata": {
        "tags": [
          "remove-cell"
        ]
      },
      "outputs": [],
      "source": [
        "try:\n",
        "    import google.colab\n",
        "    %pip install --quiet gtsam-develop\n",
        "except ImportError:\n",
        "    pass  # Not running on Colab, do nothing"
      ]
    },
    {
      "cell_type": "markdown",
      "id": "5dfef865",
      "metadata": {},
      "source": [
        "`HybridValues` is a container class in GTSAM designed to hold results from hybrid inference. It stores three types of variable assignments simultaneously:\n",
        "\n",
        "1.  **Continuous `VectorValues`**: Stores vector-valued assignments for continuous variables, typically used with Gaussian factors/conditionals (`gtsam.GaussianFactor`, `gtsam.GaussianConditional`).\n",
        "2.  **Discrete `DiscreteValues`**: Stores assignments (unsigned integers) for discrete variables (`gtsam.DiscreteKey`, `gtsam.DiscreteFactor`).\n",
        "3.  **Nonlinear `Values`**: Stores assignments for variables living on manifolds, used with nonlinear factors (`gtsam.NonlinearFactor`).\n",
        "\n",
        "It provides a unified way to represent the complete state (or solution) in a hybrid system."
      ]
    },
    {
      "cell_type": "code",
      "execution_count": 2,
      "id": "7788e3ad",
      "metadata": {},
      "outputs": [],
      "source": [
        "import gtsam\n",
        "import numpy as np\n",
        "\n",
        "from gtsam import (\n",
        "    HybridValues, VectorValues, DiscreteValues, Values, Pose2\n",
        ")\n",
        "from gtsam.symbol_shorthand import X, D"
      ]
    },
    {
      "cell_type": "markdown",
      "id": "ccd7fac8",
      "metadata": {},
      "source": [
        "## Initialization"
      ]
    },
    {
      "cell_type": "code",
      "execution_count": 3,
      "id": "f3f164e1",
      "metadata": {},
      "outputs": [
        {
          "name": "stdout",
          "output_type": "stream",
          "text": [
            "Empty HybridValues:\n",
            "HybridValues: \n",
            "  Continuous: 0 elements\n",
            "  Discrete: \n",
            "  Nonlinear\n",
            "Values with 0 values:\n",
            "\n",
            "HybridValues from VectorValues and DiscreteValues:\n",
            "HybridValues: \n",
            "  Continuous: 2 elements\n",
            "  x0: 1 2\n",
            "  x1: 3\n",
            "  Discrete: (d0, 1)(d1, 0)\n",
            "  Nonlinear\n",
            "Values with 0 values:\n",
            "\n",
            "HybridValues from all three types:\n",
            "HybridValues: \n",
            "  Continuous: 2 elements\n",
            "  x0: 1 2\n",
            "  x1: 3\n",
            "  Discrete: (d0, 1)(d1, 0)\n",
            "  Nonlinear\n",
            "Values with 1 values:\n",
            "Value x5: (class gtsam::Pose2)\n",
            "(1, 2, 0.3)\n",
            "\n"
          ]
        }
      ],
      "source": [
        "# 1. Default constructor (empty)\n",
        "hybrid_values_empty = HybridValues()\n",
        "print(\"Empty HybridValues:\")\n",
        "hybrid_values_empty.print()\n",
        "\n",
        "# 2. From VectorValues and DiscreteValues\n",
        "vec_vals = VectorValues()\n",
        "vec_vals.insert(X(0), np.array([1.0, 2.0]))\n",
        "vec_vals.insert(X(1), np.array([3.0]))\n",
        "\n",
        "disc_vals = DiscreteValues()\n",
        "disc_vals[D(0)] = 1\n",
        "disc_vals[D(1)] = 0\n",
        "\n",
        "hybrid_values_vd = HybridValues(vec_vals, disc_vals)\n",
        "print(\"\\nHybridValues from VectorValues and DiscreteValues:\")\n",
        "hybrid_values_vd.print()\n",
        "\n",
        "# 3. From VectorValues, DiscreteValues, and Nonlinear Values\n",
        "nonlinear_vals = Values()\n",
        "nonlinear_vals.insert(X(5), Pose2(1, 2, 0.3)) # Example nonlinear type\n",
        "\n",
        "hybrid_values_all = HybridValues(vec_vals, disc_vals, nonlinear_vals)\n",
        "print(\"\\nHybridValues from all three types:\")\n",
        "hybrid_values_all.print()"
      ]
    },
    {
      "cell_type": "markdown",
      "id": "5d32a2ba",
      "metadata": {},
      "source": [
        "## Accessing Values\n",
        "\n",
        "Methods are provided to access the underlying containers and check for key existence."
      ]
    },
    {
      "cell_type": "code",
      "execution_count": 4,
      "id": "1f0cac8e",
      "metadata": {},
      "outputs": [
        {
          "name": "stdout",
          "output_type": "stream",
          "text": [
            "\n",
            "Accessed Continuous Values size: 2\n",
            "Accessed Discrete Values size: 2\n",
            "Accessed Nonlinear Values size: 1\n",
            "\n",
            "Exists Vector X(0)? True\n",
            "Exists Discrete D(1)? True\n",
            "Exists Nonlinear X(5)? True\n",
            "Exists Vector D(0)? False\n",
            "Exists X(0)? True\n",
            "Exists D(0)? True\n",
            "Exists X(5)? True\n",
            "\n",
            "Value at X(0): [1. 2.]\n",
            "Value at D(0): 1\n",
            "Value at X(5): (1, 2, 0.3)\n",
            "\n"
          ]
        }
      ],
      "source": [
        "# Access underlying containers\n",
        "cont_vals = hybrid_values_all.continuous()\n",
        "disc_vals_acc = hybrid_values_all.discrete()\n",
        "nonlin_vals_acc = hybrid_values_all.nonlinear()\n",
        "\n",
        "print(f\"\\nAccessed Continuous Values size: {cont_vals.size()}\")\n",
        "print(f\"Accessed Discrete Values size: {len(disc_vals_acc)}\") # DiscreteValues acts like dict\n",
        "print(f\"Accessed Nonlinear Values size: {nonlin_vals_acc.size()}\")\n",
        "\n",
        "# Check existence\n",
        "print(f\"\\nExists Vector X(0)? {hybrid_values_all.existsVector(X(0))}\")\n",
        "print(f\"Exists Discrete D(1)? {hybrid_values_all.existsDiscrete(D(1))}\")\n",
        "print(f\"Exists Nonlinear X(5)? {hybrid_values_all.existsNonlinear(X(5))}\")\n",
        "print(f\"Exists Vector D(0)? {hybrid_values_all.existsVector(D(0))}\") # False\n",
        "\n",
        "# exists() checks across all types (nonlinear checked first)\n",
        "print(f\"Exists X(0)? {hybrid_values_all.exists(X(0))}\") # Checks VectorValues\n",
        "print(f\"Exists D(0)? {hybrid_values_all.exists(D(0))}\") # Checks DiscreteValues\n",
        "print(f\"Exists X(5)? {hybrid_values_all.exists(X(5))}\") # Checks Nonlinear Values\n",
        "\n",
        "# Access specific values\n",
        "print(f\"\\nValue at X(0): {hybrid_values_all.at(X(0))}\")\n",
        "print(f\"Value at D(0): {hybrid_values_all.discrete()[D(0)]}\")\n",
        "print(f\"Value at X(5): {hybrid_values_all.nonlinear().atPose2(X(5))}\") # Use type-specific getter"
      ]
    },
    {
      "cell_type": "markdown",
      "id": "2d60d49e",
      "metadata": {},
      "source": [
        "## Modifying Values (Insert, Update, Retract)\n",
        "\n",
        "Values can be inserted individually or from other containers. `update` modifies existing keys, while `insert` adds new keys. `retract` applies a delta to the continuous VectorValues part."
      ]
    },
    {
      "cell_type": "code",
      "execution_count": 7,
      "id": "a7214ff6",
      "metadata": {},
      "outputs": [
        {
          "name": "stdout",
          "output_type": "stream",
          "text": [
            "After individual inserts:\n",
            "HybridValues: \n",
            "  Continuous: 1 elements\n",
            "  x10: 1\n",
            "  Discrete: (d10, 1)\n",
            "  Nonlinear\n",
            "Values with 0 values:\n",
            "\n",
            "After container inserts:\n",
            "HybridValues: \n",
            "  Continuous: 2 elements\n",
            "  x10: 1\n",
            "  x12: 5\n",
            "  Discrete: (d10, 1)(d11, 0)\n",
            "  Nonlinear\n",
            "Values with 0 values:\n",
            "\n",
            "After update:\n",
            "HybridValues: \n",
            "  Continuous: 2 elements\n",
            "  x10: 99\n",
            "  x12: 5\n",
            "  Discrete: (d10, 2)(d11, 0)\n",
            "  Nonlinear\n",
            "Values with 0 values:\n",
            "\n",
            "After retract:\n",
            "HybridValues: \n",
            "  Continuous: 2 elements\n",
            "  x10: 99\n",
            "  x12: 5\n",
            "  Discrete: (d10, 2)(d11, 0)\n",
            "  Nonlinear\n",
            "Values with 0 values:\n",
            "\n",
            "Original (unchanged by retract):\n",
            "HybridValues: \n",
            "  Continuous: 2 elements\n",
            "  x10: 99\n",
            "  x12: 5\n",
            "  Discrete: (d10, 2)(d11, 0)\n",
            "  Nonlinear\n",
            "Values with 0 values:\n",
            "\n",
            "After insert_or_assign:\n",
            "HybridValues: \n",
            "  Continuous: 3 elements\n",
            "  x10: 100\n",
            "  x12: 5\n",
            "  x13: 13\n",
            "  Discrete: (d10, 2)(d11, 0)(d12, 1)\n",
            "  Nonlinear\n",
            "Values with 0 values:\n"
          ]
        }
      ],
      "source": [
        "hv = HybridValues()\n",
        "\n",
        "# Insert individual values\n",
        "hv.insert(X(10), np.array([1.0])) # Vector value\n",
        "hv.insert(D(10), 1)             # Discrete value\n",
        "\n",
        "print(\"After individual inserts:\")\n",
        "hv.print()\n",
        "\n",
        "# Insert from containers\n",
        "new_vec = VectorValues()\n",
        "new_vec.insert(X(12), np.array([5.0]))\n",
        "new_disc = DiscreteValues()\n",
        "new_disc[D(11)] = 0\n",
        "\n",
        "hv.insert(new_vec)\n",
        "hv.insert(new_disc)\n",
        "print(\"\\nAfter container inserts:\")\n",
        "hv.print()\n",
        "\n",
        "# Update existing values\n",
        "update_vec = VectorValues()\n",
        "update_vec.insert(X(10), np.array([99.0]))\n",
        "update_disc = DiscreteValues()\n",
        "update_disc[D(10)] = 2\n",
        "\n",
        "hv.update(update_vec)\n",
        "hv.update(update_disc)\n",
        "print(\"\\nAfter update:\")\n",
        "hv.print()\n",
        "\n",
        "# Retract (applies delta to VectorValues part)\n",
        "delta = VectorValues()\n",
        "delta.insert(X(10), np.array([-1.0]))\n",
        "delta.insert(X(12), np.array([0.5]))\n",
        "\n",
        "hv_retracted = hv.retract(delta)\n",
        "print(\"\\nAfter retract:\")\n",
        "hv_retracted.print()\n",
        "print(\"\\nOriginal (unchanged by retract):\")\n",
        "hv.print() # Original is not modified\n",
        "\n",
        "# Insert or assign\n",
        "# Replaces if exists, inserts if not.\n",
        "hv.insert_or_assign(X(10), np.array([100.0])) # Overwrites X(10)\n",
        "hv.insert_or_assign(D(12), 1) # Inserts D(12)\n",
        "hv.insert_or_assign(X(13), np.array([13.0])) # Inserts X(13)\n",
        "print(\"\\nAfter insert_or_assign:\")\n",
        "hv.print()"
      ]
    }
  ],
  "metadata": {
    "kernelspec": {
      "display_name": "gtsam",
      "language": "python",
      "name": "python3"
    },
    "language_info": {
      "codemirror_mode": {
        "name": "ipython",
        "version": 3
      },
      "file_extension": ".py",
      "mimetype": "text/x-python",
      "name": "python",
      "nbconvert_exporter": "python",
      "pygments_lexer": "ipython3",
      "version": "3.13.1"
    }
  },
  "nbformat": 4,
  "nbformat_minor": 5
}
