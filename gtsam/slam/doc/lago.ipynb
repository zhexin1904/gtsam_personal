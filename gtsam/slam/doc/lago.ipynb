{
  "cells": [
    {
      "cell_type": "markdown",
      "metadata": {
        "id": "intro_md"
      },
      "source": [
        "# LAGO (Linear Approximation for Graph Optimization)"
      ]
    },
    {
      "cell_type": "markdown",
      "metadata": {
        "id": "desc_md"
      },
      "source": [
        "The `gtsam::lago` namespace provides functions for initializing `Pose2` estimates in a 2D SLAM factor graph.\n",
        "LAGO stands for **Linear Approximation for Graph Optimization**. It leverages the structure of typical 2D SLAM problems to efficiently compute an initial guess, particularly for the orientations, which are often the most challenging part for nonlinear solvers.\n",
        "\n",
        "The core idea is:\n",
        "1.  **Estimate Orientations:** Assume orientations are independent of translations and solve a linear system just for the orientations ($\\theta$). This exploits the fact that the orientation part of the `Pose2` `BetweenFactor` error is approximately linear for small errors.\n",
        "2.  **Estimate Translations:** Given the estimated orientations, compute the translations by solving another linear system.\n",
        "\n",
        "Key functions:\n",
        "*   `initializeOrientations(graph)`: Computes initial estimates for the `Rot2` (orientation) components of the poses in the graph.\n",
        "*   `initialize(graph)`: Computes initial estimates for the full `Pose2` variables (orientations and translations).\n",
        "*   `initialize(graph, initialGuess)`: Corrects only the orientation part of a given `initialGuess` using LAGO.\n",
        "\n",
        "LAGO typically assumes the graph contains a spanning tree of odometry measurements and a prior on the starting pose.\n",
        "\n",
        "**Important Note**: LAGO expects integer keys numbered from 0 to n-1, with n the number of poses."
      ]
    },
    {
      "cell_type": "markdown",
      "metadata": {
        "id": "colab_badge_md"
      },
      "source": [
        "<a href=\"https://colab.research.google.com/github/borglab/gtsam/blob/develop/gtsam/slam/doc/lago.ipynb\" target=\"_parent\"><img src=\"https://colab.research.google.com/assets/colab-badge.svg\" alt=\"Open In Colab\"/></a>"
      ]
    },
    {
      "cell_type": "code",
      "execution_count": 1,
      "metadata": {
        "id": "pip_code",
        "tags": [
          "remove-cell"
        ]
      },
      "outputs": [],
      "source": [
        "try:\n",
        "    import google.colab\n",
        "    %pip install --quiet gtsam-develop\n",
        "except ImportError:\n",
        "    pass  # Not running on Colab, do nothing"
      ]
    },
    {
      "cell_type": "code",
      "execution_count": 2,
      "metadata": {
        "id": "imports_code"
      },
      "outputs": [],
      "source": [
        "import gtsam\n",
        "import gtsam.utils.plot as gtsam_plot\n",
        "import matplotlib.pyplot as plt\n",
        "import numpy as np\n",
        "from gtsam import NonlinearFactorGraph, Pose2, PriorFactorPose2, BetweenFactorPose2\n",
        "from gtsam import lago"
      ]
    },
    {
      "cell_type": "markdown",
      "metadata": {
        "id": "example_header_md"
      },
      "source": [
        "## Example Initialization"
      ]
    },
    {
      "cell_type": "markdown",
      "metadata": {
        "id": "example_desc_md"
      },
      "source": [
        "We'll create a simple 2D pose graph with odometry and a loop closure, then use `lago.initialize`."
      ]
    },
    {
      "cell_type": "code",
      "execution_count": 8,
      "metadata": {
        "id": "example_pipeline_code"
      },
      "outputs": [
        {
          "name": "stdout",
          "output_type": "stream",
          "text": [
            "\n",
            "Initial Estimate from LAGO:\n",
            "\n",
            "Values with 5 values:\n",
            "Value 0: (gtsam::Pose2)\n",
            "(-7.47244713e-17, -6.32592437e-17, -0.00193783525)\n",
            "\n",
            "Value 1: (gtsam::Pose2)\n",
            "(1.70434147, -0.00881225307, 0.034656973)\n",
            "\n",
            "Value 2: (gtsam::Pose2)\n",
            "(3.40930145, 0.0555625509, 1.64569894)\n",
            "\n",
            "Value 3: (gtsam::Pose2)\n",
            "(2.9638596, 2.05327873, 3.10897006)\n",
            "\n",
            "Value 4: (gtsam::Pose2)\n",
            "(0.669190885, 2.11357777, -1.71695927)\n",
            "\n"
          ]
        }
      ],
      "source": [
        "# 1. Create a NonlinearFactorGraph with Pose2 factors\n",
        "graph = NonlinearFactorGraph()\n",
        "\n",
        "# Add a prior on the first pose\n",
        "prior_mean = Pose2(0.0, 0.0, 0.0)\n",
        "prior_noise = gtsam.noiseModel.Diagonal.Sigmas(np.array([0.1, 0.1, 0.05]))\n",
        "graph.add(PriorFactorPose2(0, prior_mean, prior_noise))\n",
        "\n",
        "# Add odometry factors (simulating moving in a square)\n",
        "odometry_noise = gtsam.noiseModel.Diagonal.Sigmas(np.array([0.2, 0.2, 0.1]))\n",
        "graph.add(BetweenFactorPose2(0, 1, Pose2(2.0, 0.0, 0.0), odometry_noise))\n",
        "graph.add(BetweenFactorPose2(1, 2, Pose2(2.0, 0.0, np.pi/2), odometry_noise))\n",
        "graph.add(BetweenFactorPose2(2, 3, Pose2(2.0, 0.0, np.pi/2), odometry_noise))\n",
        "graph.add(BetweenFactorPose2(3, 4, Pose2(2.0, 0.0, np.pi/2), odometry_noise))\n",
        "\n",
        "# Add a loop closure factor\n",
        "loop_noise = gtsam.noiseModel.Diagonal.Sigmas(np.array([0.25, 0.25, 0.15]))\n",
        "# Ideal loop closure would be Pose2(2.0, 0.0, np.pi/2)\n",
        "measured_loop = Pose2(2.1, 0.1, np.pi/2 + 0.05)\n",
        "graph.add(BetweenFactorPose2(4, 0, measured_loop, loop_noise))\n",
        "\n",
        "# 2. Perform LAGO initialization\n",
        "initial_estimate_lago = lago.initialize(graph)\n",
        "\n",
        "print(\"\\nInitial Estimate from LAGO:\\n\")\n",
        "initial_estimate_lago.print()"
      ]
    },
    {
      "cell_type": "markdown",
      "metadata": {},
      "source": [
        "The block below visualizes the initial estimate computed by the LAGO algorithm. It uses the `gtsam_plot.plot_pose2` function to plot the poses in 2D space. Each pose is represented with its position and orientation, providing an intuitive way to inspect the initialization results. The visualization helps verify the correctness of the initial guess before proceeding with further optimization."
      ]
    },
    {
      "cell_type": "code",
      "execution_count": null,
      "metadata": {},
      "outputs": [
        {
          "data": {
            "image/png": "[encoded data removed]",
            "text/plain": [
              "<Figure size 640x480 with 1 Axes>"
            ]
          },
          "metadata": {},
          "output_type": "display_data"
        }
      ],
      "source": [
        "plt.figure(1)\n",
        "for key in initial_estimate_lago.keys():\n",
        "    gtsam_plot.plot_pose2(1, initial_estimate_lago.atPose2(key), 0.5)\n",
        "plt.title(\"LAGO Initial Estimate\")\n",
        "plt.axis('equal')\n",
        "plt.show()"
      ]
    },
    {
      "cell_type": "markdown",
      "metadata": {},
      "source": [
        "Finally, let's look at `lago.initializeOrientations` to compute the initial orientation estimatesThis solves a linear system, and the solution is represented as a `VectorValues` object, which stores the estimated angles for each pose as a 1-d vector.\n",
        "\n",
        "We compare these orientation estimates with the orientations extracted from the full LAGO initialization (`lago.initialize`)."
      ]
    },
    {
      "cell_type": "code",
      "execution_count": null,
      "metadata": {},
      "outputs": [
        {
          "name": "stdout",
          "output_type": "stream",
          "text": [
            "\n",
            "LAGO Orientations (VectorValues):\n",
            "VectorValues: 6 elements\n",
            "  0: -1.11022302e-16\n",
            "  1: -0.008\n",
            "  2: 1.55479633\n",
            "  3: 3.11759265\n",
            "  4: 4.68038898\n",
            "  99999999: 0\n",
            "Orientations from full LAGO Values:\n",
            " 0: -0.0019\n",
            " 1: 0.0347\n",
            " 2: 1.6457\n",
            " 3: 3.1090\n",
            " 4: -1.7170\n"
          ]
        }
      ],
      "source": [
        "initial_orientations = lago.initializeOrientations(graph)\n",
        "print(\"\\nLAGO Orientations (VectorValues):\")\n",
        "initial_orientations.print()\n",
        "\n",
        "print(\"Orientations from full LAGO Values:\")\n",
        "for i in range(5):\n",
        "    print(f\" {i}: {initial_estimate_lago.atPose2(i).theta():.4f}\")"
      ]
    },
    {
      "cell_type": "markdown",
      "metadata": {},
      "source": [
        "These are not as accurate (the last one is actually fine, it's $2\\pi$ off) but will still be good enough as an initial estimate."
      ]
    }
  ],
  "metadata": {
    "kernelspec": {
      "display_name": "py312",
      "language": "python",
      "name": "python3"
    },
    "language_info": {
      "codemirror_mode": {
        "name": "ipython",
        "version": 3
      },
      "file_extension": ".py",
      "mimetype": "text/x-python",
      "name": "python",
      "nbconvert_exporter": "python",
      "pygments_lexer": "ipython3",
      "version": "3.12.6"
    }
  },
  "nbformat": 4,
  "nbformat_minor": 0
}
