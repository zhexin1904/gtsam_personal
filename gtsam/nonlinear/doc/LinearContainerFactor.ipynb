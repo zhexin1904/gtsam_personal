{
 "cells": [
  {
   "cell_type": "markdown",
   "id": "f4c73cc1",
   "metadata": {},
   "source": [
    "# LinearContainerFactor\n",
    "\n",
    "## Overview\n",
    "\n",
    "The `LinearContainerFactor` class in GTSAM is a specialized factor that encapsulates a linear factor within a nonlinear factor graph. This is used extensively when marginalizing out variables.\n",
    "\n",
    "## Key Features\n",
    "\n",
    "- **Encapsulation of Linear Factors**: The primary function of the `LinearContainerFactor` is to store a linear factor and its associated values, enabling it to be used within a nonlinear context.\n",
    "- **Error Calculation**: It provides mechanisms to compute the error of the factor given a set of values.\n",
    "- **Jacobian Computation**: The class can compute the Jacobian matrix, which is essential for optimization processes.\n",
    "\n",
    "## Key Methods\n",
    "\n",
    "- **LinearContainerFactor**: This constructor initializes the `LinearContainerFactor` with a linear factor and optionally with values. It serves as the entry point for creating an instance of this class."
   ]
  }
 ],
 "metadata": {
  "language_info": {
   "name": "python"
  }
 },
 "nbformat": 4,
 "nbformat_minor": 5
}
