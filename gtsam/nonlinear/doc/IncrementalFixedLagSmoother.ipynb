{
 "cells": [
  {
   "cell_type": "markdown",
   "id": "cdd2fdc5",
   "metadata": {},
   "source": [
    "# IncrementalFixedLagSmoother\n",
    "\n",
    "## Overview\n",
    "\n",
    "The `IncrementalFixedLagSmoother` is a [FixedLagSmoother](FixedLagSmoother.ipynb) that uses [iSAM2](iSAM2.ipynb) for incremental inference.\n"
   ]
  }
 ],
 "metadata": {
  "language_info": {
   "name": "python"
  }
 },
 "nbformat": 4,
 "nbformat_minor": 5
}
